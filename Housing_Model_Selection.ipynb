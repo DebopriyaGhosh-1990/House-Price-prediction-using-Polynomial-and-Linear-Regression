{
  "nbformat": 4,
  "nbformat_minor": 0,
  "metadata": {
    "colab": {
      "name": "Model Selection_Practice.ipynb",
      "provenance": [],
      "collapsed_sections": []
    },
    "kernelspec": {
      "name": "python3",
      "display_name": "Python 3"
    }
  },
  "cells": [
    {
      "cell_type": "code",
      "metadata": {
        "id": "n_gqUScZA8Pu"
      },
      "source": [
        "import numpy as np\r\n",
        "import matplotlib.pyplot as plt\r\n",
        "import seaborn as sns\r\n",
        "import pandas as pd\r\n",
        "\r\n",
        "import warnings\r\n",
        "warnings.filterwarnings('ignore')\r\n",
        "\r\n",
        "from sklearn.model_selection import train_test_split\r\n",
        "from sklearn.preprocessing import MinMaxScaler\r\n",
        "from sklearn.preprocessing import PolynomialFeatures\r\n",
        "from sklearn.linear_model import LinearRegression\r\n",
        "from sklearn.pipeline import make_pipeline\r\n",
        "from sklearn.metrics import r2_score"
      ],
      "execution_count": 76,
      "outputs": []
    },
    {
      "cell_type": "code",
      "metadata": {
        "colab": {
          "base_uri": "https://localhost:8080/",
          "height": 197
        },
        "id": "LjQOzclYEf_J",
        "outputId": "d0e5604f-6f65-4a33-fd78-aa5ec6285ade"
      },
      "source": [
        "Housing_df = pd.read_csv('Housing.csv')\r\n",
        "Housing_df.head()"
      ],
      "execution_count": 77,
      "outputs": [
        {
          "output_type": "execute_result",
          "data": {
            "text/html": [
              "<div>\n",
              "<style scoped>\n",
              "    .dataframe tbody tr th:only-of-type {\n",
              "        vertical-align: middle;\n",
              "    }\n",
              "\n",
              "    .dataframe tbody tr th {\n",
              "        vertical-align: top;\n",
              "    }\n",
              "\n",
              "    .dataframe thead th {\n",
              "        text-align: right;\n",
              "    }\n",
              "</style>\n",
              "<table border=\"1\" class=\"dataframe\">\n",
              "  <thead>\n",
              "    <tr style=\"text-align: right;\">\n",
              "      <th></th>\n",
              "      <th>price</th>\n",
              "      <th>area</th>\n",
              "      <th>bedrooms</th>\n",
              "      <th>bathrooms</th>\n",
              "      <th>stories</th>\n",
              "      <th>mainroad</th>\n",
              "      <th>guestroom</th>\n",
              "      <th>basement</th>\n",
              "      <th>hotwaterheating</th>\n",
              "      <th>airconditioning</th>\n",
              "      <th>parking</th>\n",
              "      <th>prefarea</th>\n",
              "      <th>furnishingstatus</th>\n",
              "    </tr>\n",
              "  </thead>\n",
              "  <tbody>\n",
              "    <tr>\n",
              "      <th>0</th>\n",
              "      <td>13300000</td>\n",
              "      <td>7420</td>\n",
              "      <td>4</td>\n",
              "      <td>2</td>\n",
              "      <td>3</td>\n",
              "      <td>yes</td>\n",
              "      <td>no</td>\n",
              "      <td>no</td>\n",
              "      <td>no</td>\n",
              "      <td>yes</td>\n",
              "      <td>2</td>\n",
              "      <td>yes</td>\n",
              "      <td>furnished</td>\n",
              "    </tr>\n",
              "    <tr>\n",
              "      <th>1</th>\n",
              "      <td>12250000</td>\n",
              "      <td>8960</td>\n",
              "      <td>4</td>\n",
              "      <td>4</td>\n",
              "      <td>4</td>\n",
              "      <td>yes</td>\n",
              "      <td>no</td>\n",
              "      <td>no</td>\n",
              "      <td>no</td>\n",
              "      <td>yes</td>\n",
              "      <td>3</td>\n",
              "      <td>no</td>\n",
              "      <td>furnished</td>\n",
              "    </tr>\n",
              "    <tr>\n",
              "      <th>2</th>\n",
              "      <td>12250000</td>\n",
              "      <td>9960</td>\n",
              "      <td>3</td>\n",
              "      <td>2</td>\n",
              "      <td>2</td>\n",
              "      <td>yes</td>\n",
              "      <td>no</td>\n",
              "      <td>yes</td>\n",
              "      <td>no</td>\n",
              "      <td>no</td>\n",
              "      <td>2</td>\n",
              "      <td>yes</td>\n",
              "      <td>semi-furnished</td>\n",
              "    </tr>\n",
              "    <tr>\n",
              "      <th>3</th>\n",
              "      <td>12215000</td>\n",
              "      <td>7500</td>\n",
              "      <td>4</td>\n",
              "      <td>2</td>\n",
              "      <td>2</td>\n",
              "      <td>yes</td>\n",
              "      <td>no</td>\n",
              "      <td>yes</td>\n",
              "      <td>no</td>\n",
              "      <td>yes</td>\n",
              "      <td>3</td>\n",
              "      <td>yes</td>\n",
              "      <td>furnished</td>\n",
              "    </tr>\n",
              "    <tr>\n",
              "      <th>4</th>\n",
              "      <td>11410000</td>\n",
              "      <td>7420</td>\n",
              "      <td>4</td>\n",
              "      <td>1</td>\n",
              "      <td>2</td>\n",
              "      <td>yes</td>\n",
              "      <td>yes</td>\n",
              "      <td>yes</td>\n",
              "      <td>no</td>\n",
              "      <td>yes</td>\n",
              "      <td>2</td>\n",
              "      <td>no</td>\n",
              "      <td>furnished</td>\n",
              "    </tr>\n",
              "  </tbody>\n",
              "</table>\n",
              "</div>"
            ],
            "text/plain": [
              "      price  area  bedrooms  ...  parking  prefarea furnishingstatus\n",
              "0  13300000  7420         4  ...        2       yes        furnished\n",
              "1  12250000  8960         4  ...        3        no        furnished\n",
              "2  12250000  9960         3  ...        2       yes   semi-furnished\n",
              "3  12215000  7500         4  ...        3       yes        furnished\n",
              "4  11410000  7420         4  ...        2        no        furnished\n",
              "\n",
              "[5 rows x 13 columns]"
            ]
          },
          "metadata": {
            "tags": []
          },
          "execution_count": 77
        }
      ]
    },
    {
      "cell_type": "code",
      "metadata": {
        "colab": {
          "base_uri": "https://localhost:8080/"
        },
        "id": "QmgcmU84FB6q",
        "outputId": "c0bac5e2-2d1a-466f-9823-355b2015c96b"
      },
      "source": [
        "Housing_df.isnull().sum()"
      ],
      "execution_count": 78,
      "outputs": [
        {
          "output_type": "execute_result",
          "data": {
            "text/plain": [
              "price               0\n",
              "area                0\n",
              "bedrooms            0\n",
              "bathrooms           0\n",
              "stories             0\n",
              "mainroad            0\n",
              "guestroom           0\n",
              "basement            0\n",
              "hotwaterheating     0\n",
              "airconditioning     0\n",
              "parking             0\n",
              "prefarea            0\n",
              "furnishingstatus    0\n",
              "dtype: int64"
            ]
          },
          "metadata": {
            "tags": []
          },
          "execution_count": 78
        }
      ]
    },
    {
      "cell_type": "code",
      "metadata": {
        "colab": {
          "base_uri": "https://localhost:8080/",
          "height": 197
        },
        "id": "q5LowLf9FInC",
        "outputId": "a2fb32ef-8bf2-47a4-a4db-a1a85c1d9f9e"
      },
      "source": [
        "df = Housing_df.loc[:,['price','area']]\r\n",
        "df.head()"
      ],
      "execution_count": 79,
      "outputs": [
        {
          "output_type": "execute_result",
          "data": {
            "text/html": [
              "<div>\n",
              "<style scoped>\n",
              "    .dataframe tbody tr th:only-of-type {\n",
              "        vertical-align: middle;\n",
              "    }\n",
              "\n",
              "    .dataframe tbody tr th {\n",
              "        vertical-align: top;\n",
              "    }\n",
              "\n",
              "    .dataframe thead th {\n",
              "        text-align: right;\n",
              "    }\n",
              "</style>\n",
              "<table border=\"1\" class=\"dataframe\">\n",
              "  <thead>\n",
              "    <tr style=\"text-align: right;\">\n",
              "      <th></th>\n",
              "      <th>price</th>\n",
              "      <th>area</th>\n",
              "    </tr>\n",
              "  </thead>\n",
              "  <tbody>\n",
              "    <tr>\n",
              "      <th>0</th>\n",
              "      <td>13300000</td>\n",
              "      <td>7420</td>\n",
              "    </tr>\n",
              "    <tr>\n",
              "      <th>1</th>\n",
              "      <td>12250000</td>\n",
              "      <td>8960</td>\n",
              "    </tr>\n",
              "    <tr>\n",
              "      <th>2</th>\n",
              "      <td>12250000</td>\n",
              "      <td>9960</td>\n",
              "    </tr>\n",
              "    <tr>\n",
              "      <th>3</th>\n",
              "      <td>12215000</td>\n",
              "      <td>7500</td>\n",
              "    </tr>\n",
              "    <tr>\n",
              "      <th>4</th>\n",
              "      <td>11410000</td>\n",
              "      <td>7420</td>\n",
              "    </tr>\n",
              "  </tbody>\n",
              "</table>\n",
              "</div>"
            ],
            "text/plain": [
              "      price  area\n",
              "0  13300000  7420\n",
              "1  12250000  8960\n",
              "2  12250000  9960\n",
              "3  12215000  7500\n",
              "4  11410000  7420"
            ]
          },
          "metadata": {
            "tags": []
          },
          "execution_count": 79
        }
      ]
    },
    {
      "cell_type": "code",
      "metadata": {
        "colab": {
          "base_uri": "https://localhost:8080/"
        },
        "id": "1M1Mqa0KGGkM",
        "outputId": "2c8676a0-a850-4142-8859-016d764ef4c3"
      },
      "source": [
        "list(df.columns)"
      ],
      "execution_count": 80,
      "outputs": [
        {
          "output_type": "execute_result",
          "data": {
            "text/plain": [
              "['price', 'area']"
            ]
          },
          "metadata": {
            "tags": []
          },
          "execution_count": 80
        }
      ]
    },
    {
      "cell_type": "code",
      "metadata": {
        "colab": {
          "base_uri": "https://localhost:8080/"
        },
        "id": "NZkKwfAVFc2y",
        "outputId": "a3d3e595-dde8-42b1-b9ca-acd95f615975"
      },
      "source": [
        "df_train,df_test = train_test_split(df,train_size = 0.7, random_state = 10)\r\n",
        "print(len(df_train),len(df_test))\r\n",
        "scale = MinMaxScaler()\r\n",
        "col = list(df_train.columns)\r\n",
        "df_train[col] = scale.fit_transform(df_train[col])\r\n",
        "df_test[col] = scale.transform(df_test[col])"
      ],
      "execution_count": 81,
      "outputs": [
        {
          "output_type": "stream",
          "text": [
            "381 164\n"
          ],
          "name": "stdout"
        }
      ]
    },
    {
      "cell_type": "code",
      "metadata": {
        "colab": {
          "base_uri": "https://localhost:8080/",
          "height": 197
        },
        "id": "RYU5ZN_qG7xg",
        "outputId": "c1ab6526-a709-4dc3-db1b-b0f07a296fe4"
      },
      "source": [
        "df_train.head()"
      ],
      "execution_count": 82,
      "outputs": [
        {
          "output_type": "execute_result",
          "data": {
            "text/html": [
              "<div>\n",
              "<style scoped>\n",
              "    .dataframe tbody tr th:only-of-type {\n",
              "        vertical-align: middle;\n",
              "    }\n",
              "\n",
              "    .dataframe tbody tr th {\n",
              "        vertical-align: top;\n",
              "    }\n",
              "\n",
              "    .dataframe thead th {\n",
              "        text-align: right;\n",
              "    }\n",
              "</style>\n",
              "<table border=\"1\" class=\"dataframe\">\n",
              "  <thead>\n",
              "    <tr style=\"text-align: right;\">\n",
              "      <th></th>\n",
              "      <th>price</th>\n",
              "      <th>area</th>\n",
              "    </tr>\n",
              "  </thead>\n",
              "  <tbody>\n",
              "    <tr>\n",
              "      <th>175</th>\n",
              "      <td>0.303030</td>\n",
              "      <td>0.582734</td>\n",
              "    </tr>\n",
              "    <tr>\n",
              "      <th>25</th>\n",
              "      <td>0.587879</td>\n",
              "      <td>0.348201</td>\n",
              "    </tr>\n",
              "    <tr>\n",
              "      <th>253</th>\n",
              "      <td>0.239394</td>\n",
              "      <td>0.130935</td>\n",
              "    </tr>\n",
              "    <tr>\n",
              "      <th>257</th>\n",
              "      <td>0.236364</td>\n",
              "      <td>0.471223</td>\n",
              "    </tr>\n",
              "    <tr>\n",
              "      <th>431</th>\n",
              "      <td>0.133333</td>\n",
              "      <td>0.106475</td>\n",
              "    </tr>\n",
              "  </tbody>\n",
              "</table>\n",
              "</div>"
            ],
            "text/plain": [
              "        price      area\n",
              "175  0.303030  0.582734\n",
              "25   0.587879  0.348201\n",
              "253  0.239394  0.130935\n",
              "257  0.236364  0.471223\n",
              "431  0.133333  0.106475"
            ]
          },
          "metadata": {
            "tags": []
          },
          "execution_count": 82
        }
      ]
    },
    {
      "cell_type": "code",
      "metadata": {
        "colab": {
          "base_uri": "https://localhost:8080/",
          "height": 197
        },
        "id": "UCbjS_9wHCeW",
        "outputId": "7868938e-005a-40bc-c088-814f9c3256c0"
      },
      "source": [
        "df_test.head()"
      ],
      "execution_count": 83,
      "outputs": [
        {
          "output_type": "execute_result",
          "data": {
            "text/html": [
              "<div>\n",
              "<style scoped>\n",
              "    .dataframe tbody tr th:only-of-type {\n",
              "        vertical-align: middle;\n",
              "    }\n",
              "\n",
              "    .dataframe tbody tr th {\n",
              "        vertical-align: top;\n",
              "    }\n",
              "\n",
              "    .dataframe thead th {\n",
              "        text-align: right;\n",
              "    }\n",
              "</style>\n",
              "<table border=\"1\" class=\"dataframe\">\n",
              "  <thead>\n",
              "    <tr style=\"text-align: right;\">\n",
              "      <th></th>\n",
              "      <th>price</th>\n",
              "      <th>area</th>\n",
              "    </tr>\n",
              "  </thead>\n",
              "  <tbody>\n",
              "    <tr>\n",
              "      <th>482</th>\n",
              "      <td>0.103030</td>\n",
              "      <td>0.104317</td>\n",
              "    </tr>\n",
              "    <tr>\n",
              "      <th>314</th>\n",
              "      <td>0.203030</td>\n",
              "      <td>0.168345</td>\n",
              "    </tr>\n",
              "    <tr>\n",
              "      <th>383</th>\n",
              "      <td>0.157576</td>\n",
              "      <td>0.201439</td>\n",
              "    </tr>\n",
              "    <tr>\n",
              "      <th>487</th>\n",
              "      <td>0.096970</td>\n",
              "      <td>0.266187</td>\n",
              "    </tr>\n",
              "    <tr>\n",
              "      <th>43</th>\n",
              "      <td>0.515152</td>\n",
              "      <td>0.309353</td>\n",
              "    </tr>\n",
              "  </tbody>\n",
              "</table>\n",
              "</div>"
            ],
            "text/plain": [
              "        price      area\n",
              "482  0.103030  0.104317\n",
              "314  0.203030  0.168345\n",
              "383  0.157576  0.201439\n",
              "487  0.096970  0.266187\n",
              "43   0.515152  0.309353"
            ]
          },
          "metadata": {
            "tags": []
          },
          "execution_count": 83
        }
      ]
    },
    {
      "cell_type": "code",
      "metadata": {
        "colab": {
          "base_uri": "https://localhost:8080/",
          "height": 290
        },
        "id": "fIwzg4XyH1CT",
        "outputId": "dfe8cbde-7598-4c55-e6a6-31966ed71800"
      },
      "source": [
        "sns.regplot(df.area, df.price)\r\n",
        "plt.show()"
      ],
      "execution_count": 84,
      "outputs": [
        {
          "output_type": "display_data",
          "data": {
            "image/png": "[encoded data removed]",
            "text/plain": [
              "<Figure size 432x288 with 1 Axes>"
            ]
          },
          "metadata": {
            "tags": [],
            "needs_background": "light"
          }
        }
      ]
    },
    {
      "cell_type": "code",
      "metadata": {
        "colab": {
          "base_uri": "https://localhost:8080/",
          "height": 279
        },
        "id": "7AbLNJbvIIRu",
        "outputId": "b1c12ff5-8d02-47a8-9c5b-14cd20166eb2"
      },
      "source": [
        "sns.distplot(df.area)\r\n",
        "plt.show()"
      ],
      "execution_count": 85,
      "outputs": [
        {
          "output_type": "display_data",
          "data": {
            "image/png": "[encoded data removed]",
            "text/plain": [
              "<Figure size 432x288 with 1 Axes>"
            ]
          },
          "metadata": {
            "tags": [],
            "needs_background": "light"
          }
        }
      ]
    },
    {
      "cell_type": "code",
      "metadata": {
        "colab": {
          "base_uri": "https://localhost:8080/",
          "height": 290
        },
        "id": "LqxNrquaIPZz",
        "outputId": "ead01841-12cb-4fe7-cde1-ad8f06f00afa"
      },
      "source": [
        " sns.distplot(df.price)\r\n",
        "plt.show()"
      ],
      "execution_count": 86,
      "outputs": [
        {
          "output_type": "display_data",
          "data": {
            "image/png": "[encoded data removed]",
            "text/plain": [
              "<Figure size 432x288 with 1 Axes>"
            ]
          },
          "metadata": {
            "tags": [],
            "needs_background": "light"
          }
        }
      ]
    },
    {
      "cell_type": "code",
      "metadata": {
        "id": "nOmcHhS_HGc9"
      },
      "source": [
        "X_train = df_train['area'].values.reshape(-1,1)\r\n",
        "y_train = df_train['price']\r\n",
        "\r\n",
        "X_test = df_test['area'].values.reshape(-1,1)\r\n",
        "y_test = df_test['price']"
      ],
      "execution_count": 87,
      "outputs": []
    },
    {
      "cell_type": "code",
      "metadata": {
        "id": "RyTraL4uIyXC"
      },
      "source": [
        "degrees =[1, 2, 3, 6, 10, 20]\r\n",
        "\r\n",
        "y_train_pred = np.zeros((len(df_train),len(degrees)))\r\n",
        "y_test_pred = np.zeros((len(df_test), len(degrees)))\r\n",
        "\r\n",
        "for i, degree in enumerate(degrees):\r\n",
        "  model = make_pipeline(PolynomialFeatures(degree), LinearRegression())\r\n",
        "  model.fit(X_train,y_train)\r\n",
        "\r\n",
        "  y_train_pred[:,i]=model.predict(X_train)\r\n",
        "  y_test_pred[:,i]=model.predict(X_test)\r\n"
      ],
      "execution_count": 88,
      "outputs": []
    },
    {
      "cell_type": "code",
      "metadata": {
        "colab": {
          "base_uri": "https://localhost:8080/"
        },
        "id": "Na0APS7bL1pK",
        "outputId": "1a8fcf16-2e66-4e83-b581-7975380fac0d"
      },
      "source": [
        "y_train_pred"
      ],
      "execution_count": 89,
      "outputs": [
        {
          "output_type": "execute_result",
          "data": {
            "text/plain": [
              "array([[0.47418668, 0.43875135, 0.43958014, 0.37283895, 0.35360483,\n",
              "        0.39617919],\n",
              "       [0.32965085, 0.36022771, 0.36020318, 0.38693157, 0.39702723,\n",
              "        0.38799492],\n",
              "       [0.19575571, 0.18472264, 0.18464659, 0.16859314, 0.16660568,\n",
              "        0.15484367],\n",
              "       ...,\n",
              "       [0.12109364, 0.04393656, 0.04505784, 0.11581114, 0.08645543,\n",
              "        0.04268775],\n",
              "       [0.7313363 , 0.2937324 , 0.28889587, 0.35545707, 0.36292343,\n",
              "        0.36456343],\n",
              "       [0.16738057, 0.13483757, 0.13507759, 0.13787842, 0.13425014,\n",
              "        0.14436483]])"
            ]
          },
          "metadata": {
            "tags": []
          },
          "execution_count": 89
        }
      ]
    },
    {
      "cell_type": "code",
      "metadata": {
        "colab": {
          "base_uri": "https://localhost:8080/"
        },
        "id": "cy1Ow8z7MXCz",
        "outputId": "d491b46f-92b8-4cb1-83d8-e536cb31d157"
      },
      "source": [
        "y_test_pred"
      ],
      "execution_count": 90,
      "outputs": [
        {
          "output_type": "execute_result",
          "data": {
            "text/plain": [
              "array([[ 1.79351332e-01,  1.56424129e-01,  1.56511935e-01,\n",
              "         1.49066164e-01,  1.42530607e-01,  1.51960719e-01],\n",
              "       [ 2.18810499e-01,  2.21985918e-01,  2.21759197e-01,\n",
              "         2.03260056e-01,  2.08066026e-01,  2.15726692e-01],\n",
              "       [ 2.39205125e-01,  2.52506989e-01,  2.52215681e-01,\n",
              "         2.38963896e-01,  2.40910090e-01,  2.52367956e-01],\n",
              "       [ 2.79107653e-01,  3.05590066e-01,  3.05325453e-01,\n",
              "         3.12457483e-01,  3.01563313e-01,  2.90597030e-01],\n",
              "       [ 3.05709338e-01,  3.36102266e-01,  3.35942345e-01,\n",
              "         3.56121543e-01,  3.51544041e-01,  3.59124002e-01],\n",
              "       [ 3.37187999e-01,  3.67168760e-01,  3.67192635e-01,\n",
              "         3.94534463e-01,  4.08983951e-01,  3.97577095e-01],\n",
              "       [ 3.81080780e-01,  4.01367743e-01,  4.01700010e-01,\n",
              "         4.16608188e-01,  4.28062170e-01,  4.51796808e-01],\n",
              "       [ 1.99302596e-01,  1.90646182e-01,  1.90541127e-01,\n",
              "         1.73418123e-01,  1.72865826e-01,  1.60213173e-01],\n",
              "       [ 1.63833683e-01,  1.28289838e-01,  1.28580536e-01,\n",
              "         1.35065539e-01,  1.33800079e-01,  1.37646936e-01],\n",
              "       [ 2.04622934e-01,  1.99401447e-01,  1.99256968e-01,\n",
              "         1.81026102e-01,  1.82514417e-01,  1.72182200e-01],\n",
              "       [ 3.05709338e-01,  3.36102266e-01,  3.35942345e-01,\n",
              "         3.56121543e-01,  3.51544041e-01,  3.59124002e-01],\n",
              "       [ 2.00854361e-01,  1.93215920e-01,  1.93098866e-01,\n",
              "         1.75592139e-01,  1.75657628e-01,  1.63247243e-01],\n",
              "       [ 1.29029811e-01,  6.03610264e-02,  6.12956151e-02,\n",
              "         1.17937753e-01,  1.30898028e-01,  1.51883764e-01],\n",
              "       [ 2.27677728e-01,  2.35537703e-01,  2.35275521e-01,\n",
              "         2.18352453e-01,  2.22988980e-01,  2.38396507e-01],\n",
              "       [ 3.43927092e-01,  3.73109681e-01,  3.73178557e-01,\n",
              "         4.00407304e-01,  4.17980688e-01,  4.08848860e-01],\n",
              "       [ 1.56739900e-01,  1.14986310e-01,  1.15386311e-01,\n",
              "         1.30107771e-01,  1.35562935e-01,  1.22251863e-01],\n",
              "       [ 4.29850536e-01,  4.26909820e-01,  4.27562325e-01,\n",
              "         4.01669430e-01,  3.62203618e-01,  3.23825887e-01],\n",
              "       [ 3.10142952e-01,  3.40808348e-01,  3.40671006e-01,\n",
              "         3.62529606e-01,  3.60355475e-01,  3.66443219e-01],\n",
              "       [ 2.39648486e-01,  2.53145024e-01,  2.52852960e-01,\n",
              "         2.39773390e-01,  2.41571975e-01,  2.52584119e-01],\n",
              "       [ 3.25660602e-01,  3.56426245e-01,  3.56377064e-01,\n",
              "         3.82478301e-01,  3.90051166e-01,  3.83856801e-01],\n",
              "       [ 2.00632681e-01,  1.92849628e-01,  1.92734262e-01,\n",
              "         1.75279259e-01,  1.75257308e-01,  1.62789272e-01],\n",
              "       [ 1.68710658e-01,  1.37275088e-01,  1.37496768e-01,\n",
              "         1.38991942e-01,  1.34662350e-01,  1.46387293e-01],\n",
              "       [ 5.14089206e-01,  4.40143344e-01,  4.40962674e-01,\n",
              "         3.60166736e-01,  4.27346254e-01,  4.33220252e-01],\n",
              "       [ 3.25217240e-01,  3.55998442e-01,  3.55946567e-01,\n",
              "         3.81965669e-01,  3.89253258e-01,  3.83418336e-01],\n",
              "       [ 2.79107653e-01,  3.05590066e-01,  3.05325453e-01,\n",
              "         3.12457483e-01,  3.01563313e-01,  2.90597030e-01],\n",
              "       [ 3.42286655e-01,  3.71686591e-01,  3.71744380e-01,\n",
              "         3.99059584e-01,  4.15957251e-01,  4.05866201e-01],\n",
              "       [ 2.06396379e-01,  2.02285192e-01,  2.02128638e-01,\n",
              "         1.83656465e-01,  1.85758463e-01,  1.77044001e-01],\n",
              "       [ 3.21670349e-01,  3.52537004e-01,  3.52463918e-01,\n",
              "         3.77738889e-01,  3.82729444e-01,  3.79952777e-01],\n",
              "       [ 2.17037053e-01,  2.19223544e-01,  2.19005348e-01,\n",
              "         2.00341572e-01,  2.04961779e-01,  2.10278348e-01],\n",
              "       [ 2.15706969e-01,  2.17140386e-01,  2.16928905e-01,\n",
              "         1.98176861e-01,  2.02610498e-01,  2.06082606e-01],\n",
              "       [ 1.34793510e-01,  7.20717564e-02,  7.28804223e-02,\n",
              "         1.19723090e-01,  1.42471295e-01,  1.61027858e-01],\n",
              "       [ 1.72700911e-01,  1.44529126e-01,  1.44697957e-01,\n",
              "         1.42526386e-01,  1.36688128e-01,  1.50559200e-01],\n",
              "       [ 4.05465658e-01,  4.15777833e-01,  4.16279943e-01,\n",
              "         4.13291168e-01,  3.99384610e-01,  3.74527672e-01],\n",
              "       [ 3.24330518e-01,  3.55139584e-01,  3.55082349e-01,\n",
              "         3.80929854e-01,  3.87645076e-01,  3.82548149e-01],\n",
              "       [ 4.33397428e-01,  4.28255933e-01,  4.28927829e-01,\n",
              "         3.99507572e-01,  3.57683039e-01,  3.26972511e-01],\n",
              "       [ 3.41178252e-01,  3.70716645e-01,  3.70766989e-01,\n",
              "         3.98119007e-01,  4.14527304e-01,  4.03934719e-01],\n",
              "       [ 2.92408495e-01,  3.21333817e-01,  3.21114432e-01,\n",
              "         3.35278246e-01,  3.25583169e-01,  3.28062630e-01],\n",
              "       [ 1.59400068e-01,  1.20007643e-01,  1.20365399e-01,\n",
              "         1.31864515e-01,  1.34518576e-01,  1.27787573e-01],\n",
              "       [ 3.32311023e-01,  3.62713253e-01,  3.62705552e-01,\n",
              "         3.89737353e-01,  4.01446914e-01,  3.91054915e-01],\n",
              "       [ 2.43638739e-01,  2.58838577e-01,  2.58540882e-01,\n",
              "         2.47099784e-01,  2.47465133e-01,  2.53809194e-01],\n",
              "       [ 2.63146641e-01,  2.85410163e-01,  2.85113389e-01,\n",
              "         2.83387300e-01,  2.75992583e-01,  2.60130291e-01],\n",
              "       [ 2.98083521e-01,  3.27754313e-01,  3.27558694e-01,\n",
              "         3.44448303e-01,  3.36499476e-01,  3.42853924e-01],\n",
              "       [ 1.46099226e-01,  9.45108571e-02,  9.50953337e-02,\n",
              "         1.24231838e-01,  1.42222509e-01,  1.21174988e-01],\n",
              "       [ 3.32311023e-01,  3.62713253e-01,  3.62705552e-01,\n",
              "         3.89737353e-01,  4.01446914e-01,  3.91054915e-01],\n",
              "       [ 3.45611866e-01,  3.74555791e-01,  3.74636134e-01,\n",
              "         4.01736131e-01,  4.19939397e-01,  4.12054038e-01],\n",
              "       [ 3.32311023e-01,  3.62713253e-01,  3.62705552e-01,\n",
              "         3.89737353e-01,  4.01446914e-01,  3.91054915e-01],\n",
              "       [ 7.57937989e-01,  2.57923970e-01,  2.51436999e-01,\n",
              "        -5.40304801e-02, -1.90409789e+01, -1.08565700e+06],\n",
              "       [ 2.34771510e-01,  2.46067034e-01,  2.45784741e-01,\n",
              "         2.30929177e-01,  2.34192699e-01,  2.49043839e-01],\n",
              "       [ 1.95401016e-01,  1.84126476e-01,  1.84053449e-01,\n",
              "         1.68121904e-01,  1.65991572e-01,  1.54428857e-01],\n",
              "       [ 2.01519404e-01,  1.94313173e-01,  1.94191103e-01,\n",
              "         1.76535351e-01,  1.76861157e-01,  1.64668800e-01],\n",
              "       [ 1.72700911e-01,  1.44529126e-01,  1.44697957e-01,\n",
              "         1.42526386e-01,  1.36688128e-01,  1.50559200e-01],\n",
              "       [ 3.19941240e-01,  3.50824406e-01,  3.50741211e-01,\n",
              "         3.75598585e-01,  3.79469348e-01,  3.78235986e-01],\n",
              "       [ 2.59599750e-01,  2.80735014e-01,  2.80434747e-01,\n",
              "         2.76792651e-01,  2.70697295e-01,  2.57146223e-01],\n",
              "       [ 1.79883366e-01,  1.57365196e-01,  1.57446893e-01,\n",
              "         1.49624327e-01,  1.43119006e-01,  1.51871425e-01],\n",
              "       [ 2.50289160e-01,  2.68132770e-01,  2.67830234e-01,\n",
              "         2.59432123e-01,  2.57126773e-01,  2.54340721e-01],\n",
              "       [ 3.97928514e-01,  4.11673830e-01,  4.12124844e-01,\n",
              "         4.15352423e-01,  4.10300836e-01,  4.04409301e-01],\n",
              "       [ 1.99302596e-01,  1.90646182e-01,  1.90541127e-01,\n",
              "         1.73418123e-01,  1.72865826e-01,  1.60213173e-01],\n",
              "       [ 3.06596061e-01,  3.37052152e-01,  3.36896644e-01,\n",
              "         3.57426411e-01,  3.53306795e-01,  3.60711058e-01],\n",
              "       [ 2.52505967e-01,  2.71176651e-01,  2.70873721e-01,\n",
              "         2.63563057e-01,  2.60335093e-01,  2.54558645e-01],\n",
              "       [ 1.66050490e-01,  1.32390298e-01,  1.32649014e-01,\n",
              "         1.36797010e-01,  1.33971039e-01,  1.42051054e-01],\n",
              "       [ 2.29451173e-01,  2.38196044e-01,  2.37928163e-01,\n",
              "         2.21459725e-01,  2.25848738e-01,  2.41723219e-01],\n",
              "       [ 2.53171009e-01,  2.72084533e-01,  2.71781601e-01,\n",
              "         2.64803312e-01,  2.61298786e-01,  2.54660271e-01],\n",
              "       [ 1.90435368e-01,  1.75707298e-01,  1.75678951e-01,\n",
              "         1.61745814e-01,  1.57709577e-01,  1.50837061e-01],\n",
              "       [ 2.15263608e-01,  2.16443832e-01,  2.16234652e-01,\n",
              "         1.97460015e-01,  2.01822620e-01,  2.04669476e-01],\n",
              "       [ 3.32976065e-01,  3.63328543e-01,  3.63325094e-01,\n",
              "         3.90418097e-01,  4.02519652e-01,  3.91869768e-01],\n",
              "       [ 3.21670349e-01,  3.52537004e-01,  3.52463918e-01,\n",
              "         3.77738889e-01,  3.82729444e-01,  3.79952777e-01],\n",
              "       [ 2.19253860e-01,  2.22673802e-01,  2.22445026e-01,\n",
              "         2.03995271e-01,  2.08836280e-01,  2.17055227e-01],\n",
              "       [ 1.63833683e-01,  1.28289838e-01,  1.28580536e-01,\n",
              "         1.35065539e-01,  1.33800079e-01,  1.37646936e-01],\n",
              "       [ 1.80681417e-01,  1.58773870e-01,  1.58846508e-01,\n",
              "         1.50471238e-01,  1.44032253e-01,  1.51708577e-01],\n",
              "       [ 2.83541267e-01,  3.10946350e-01,  3.10695086e-01,\n",
              "         3.20245401e-01,  3.09293517e-01,  3.02805325e-01],\n",
              "       [ 1.95755705e-01,  1.84722644e-01,  1.84646595e-01,\n",
              "         1.68593143e-01,  1.66605675e-01,  1.54843668e-01],\n",
              "       [ 5.05221978e-01,  4.40592581e-01,  4.41431238e-01,\n",
              "         3.60631430e-01,  4.09910204e-01,  4.09089939e-01],\n",
              "       [ 3.58912709e-01,  3.85423026e-01,  3.85596228e-01,\n",
              "         4.10238126e-01,  4.30699650e-01,  4.39349241e-01],\n",
              "       [ 3.21670349e-01,  3.52537004e-01,  3.52463918e-01,\n",
              "         3.77738889e-01,  3.82729444e-01,  3.79952777e-01],\n",
              "       [ 2.39205125e-01,  2.52506989e-01,  2.52215681e-01,\n",
              "         2.38963896e-01,  2.40910090e-01,  2.52367956e-01],\n",
              "       [ 1.80681417e-01,  1.58773870e-01,  1.58846508e-01,\n",
              "         1.50471238e-01,  1.44032253e-01,  1.51708577e-01],\n",
              "       [ 1.34350148e-01,  7.11774331e-02,  7.19955019e-02,\n",
              "         1.19575606e-01,  1.41990474e-01,  1.61904306e-01],\n",
              "       [ 3.93494900e-01,  4.09113416e-01,  4.09533678e-01,\n",
              "         4.16152037e-01,  4.16019502e-01,  4.20771477e-01],\n",
              "       [ 4.20096585e-01,  4.22850397e-01,  4.23446008e-01,\n",
              "         4.07089284e-01,  3.76409925e-01,  3.29939278e-01],\n",
              "       [ 2.45057495e-01,  2.60841798e-01,  2.60542600e-01,\n",
              "         2.49720082e-01,  2.49538080e-01,  2.54008298e-01],\n",
              "       [ 4.12116079e-01,  4.19138930e-01,  4.19684597e-01,\n",
              "         4.10801730e-01,  3.89000059e-01,  3.50332327e-01],\n",
              "       [ 3.01275724e-01,  3.31287817e-01,  3.31106638e-01,\n",
              "         3.49430336e-01,  3.42760924e-01,  3.50227131e-01],\n",
              "       [ 1.74297012e-01,  1.47406164e-01,  1.47554752e-01,\n",
              "         1.44021918e-01,  1.37820453e-01,  1.51447985e-01],\n",
              "       [ 1.12847119e-01,  2.65019388e-02,  2.78340343e-02,\n",
              "         1.13686390e-01, -2.09354017e-02,  1.38857420e-01],\n",
              "       [ 2.01076042e-01,  1.93581942e-01,  1.93463207e-01,\n",
              "         1.75905783e-01,  1.76058390e-01,  1.63713206e-01],\n",
              "       [ 1.68710658e-01,  1.37275088e-01,  1.37496768e-01,\n",
              "         1.38991942e-01,  1.34662350e-01,  1.46387293e-01],\n",
              "       [ 6.13579510e-01,  4.05386836e-01,  4.05063817e-01,\n",
              "         4.92771021e-01,  3.40933964e-01, -2.03677075e+01],\n",
              "       [ 4.36944319e-01,  4.29532691e-01,  4.30223214e-01,\n",
              "         3.97266178e-01,  3.53635729e-01,  3.32586700e-01],\n",
              "       [ 3.38961445e-01,  3.68756435e-01,  3.68792007e-01,\n",
              "         3.96165784e-01,  4.11521786e-01,  4.00285892e-01],\n",
              "       [ 1.76691164e-01,  1.51695387e-01,  1.51814558e-01,\n",
              "         1.46352929e-01,  1.39846240e-01,  1.52060891e-01],\n",
              "       [ 4.01032044e-01,  4.13401642e-01,  4.13873893e-01,\n",
              "         4.14607177e-01,  4.05960265e-01,  3.92170861e-01],\n",
              "       [ 1.93982259e-01,  1.81734868e-01,  1.81674154e-01,\n",
              "         1.66257789e-01,  1.63561743e-01,  1.52988818e-01],\n",
              "       [ 3.76647165e-01,  3.98395533e-01,  3.98695964e-01,\n",
              "         4.16094392e-01,  4.30656347e-01,  4.55888219e-01],\n",
              "       [ 2.62259918e-01,  2.84247877e-01,  2.83950099e-01,\n",
              "         2.81741133e-01,  2.74658985e-01,  2.59257519e-01],\n",
              "       [ 1.83341585e-01,  1.63444094e-01,  1.63487415e-01,\n",
              "         1.53377688e-01,  1.47327802e-01,  1.51044878e-01],\n",
              "       [ 2.05953018e-01,  2.01565881e-01,  2.01412297e-01,\n",
              "         1.82994590e-01,  1.84947221e-01,  1.75794889e-01],\n",
              "       [ 2.34771510e-01,  2.46067034e-01,  2.45784741e-01,\n",
              "         2.30929177e-01,  2.34192699e-01,  2.49043839e-01],\n",
              "       [ 3.68223298e-01,  3.92449784e-01,  3.92689591e-01,\n",
              "         4.14083719e-01,  4.32782761e-01,  4.53530805e-01],\n",
              "       [ 1.80681417e-01,  1.58773870e-01,  1.58846508e-01,\n",
              "         1.50471238e-01,  1.44032253e-01,  1.51708577e-01],\n",
              "       [ 2.77334207e-01,  3.03417209e-01,  3.03147768e-01,\n",
              "         3.09299530e-01,  2.98552096e-01,  2.86014326e-01],\n",
              "       [ 3.05709338e-01,  3.36102266e-01,  3.35942345e-01,\n",
              "         3.56121543e-01,  3.51544041e-01,  3.59124002e-01],\n",
              "       [ 1.80903097e-01,  1.59164546e-01,  1.59234689e-01,\n",
              "         1.50708546e-01,  1.44292326e-01,  1.51658417e-01],\n",
              "       [ 4.76846847e-01,  4.39117234e-01,  4.39951125e-01,\n",
              "         3.71314095e-01,  3.56931579e-01,  3.94791099e-01],\n",
              "       [ 2.56052859e-01,  2.75990510e-01,  2.75688177e-01,\n",
              "         2.70179759e-01,  2.65488793e-01,  2.55387634e-01],\n",
              "       [ 3.32311023e-01,  3.62713253e-01,  3.62705552e-01,\n",
              "         3.89737353e-01,  4.01446914e-01,  3.91054915e-01],\n",
              "       [ 2.20583945e-01,  2.24730952e-01,  2.24496192e-01,\n",
              "         2.06213959e-01,  2.11132500e-01,  2.20943698e-01],\n",
              "       [ 3.65563130e-01,  3.90490904e-01,  3.90711605e-01,\n",
              "         4.13160770e-01,  4.32664543e-01,  4.50446039e-01],\n",
              "       [ 2.32554703e-01,  2.42806419e-01,  2.42529647e-01,\n",
              "         2.26958369e-01,  2.30757090e-01,  2.46469819e-01],\n",
              "       [ 2.74674038e-01,  3.00125414e-01,  2.99849297e-01,\n",
              "         3.04521906e-01,  2.94120868e-01,  2.79590077e-01],\n",
              "       [ 2.31224619e-01,  2.40837046e-01,  2.40563917e-01,\n",
              "         2.24592737e-01,  2.28668105e-01,  2.44602356e-01],\n",
              "       [ 2.79107653e-01,  3.05590066e-01,  3.05325453e-01,\n",
              "         3.12457483e-01,  3.01563313e-01,  2.90597030e-01],\n",
              "       [ 1.64587397e-01,  1.29687034e-01,  1.29966743e-01,\n",
              "         1.35644342e-01,  1.33817248e-01,  1.39210870e-01],\n",
              "       [ 2.31224619e-01,  2.40837046e-01,  2.40563917e-01,\n",
              "         2.24592737e-01,  2.28668105e-01,  2.44602356e-01],\n",
              "       [ 1.99302596e-01,  1.90646182e-01,  1.90541127e-01,\n",
              "         1.73418123e-01,  1.72865826e-01,  1.60213173e-01],\n",
              "       [ 2.89748327e-01,  3.18263091e-01,  3.18033446e-01,\n",
              "         3.30852544e-01,  3.20587675e-01,  3.20601853e-01],\n",
              "       [ 4.99014918e-01,  4.40649133e-01,  4.41495075e-01,\n",
              "         3.61888896e-01,  3.96916638e-01,  3.95551176e-01],\n",
              "       [ 2.54279413e-01,  2.73592250e-01,  2.73289432e-01,\n",
              "         2.66870979e-01,  2.62907187e-01,  2.54879575e-01],\n",
              "       [ 1.80681417e-01,  1.58773870e-01,  1.58846508e-01,\n",
              "         1.50471238e-01,  1.44032253e-01,  1.51708577e-01],\n",
              "       [ 3.26990686e-01,  3.57703152e-01,  3.57662110e-01,\n",
              "         3.83994946e-01,  3.92418846e-01,  3.85191900e-01],\n",
              "       [ 2.39205125e-01,  2.52506989e-01,  2.52215681e-01,\n",
              "         2.38963896e-01,  2.40910090e-01,  2.52367956e-01],\n",
              "       [ 3.32311023e-01,  3.62713253e-01,  3.62705552e-01,\n",
              "         3.89737353e-01,  4.01446914e-01,  3.91054915e-01],\n",
              "       [ 1.34793510e-01,  7.20717564e-02,  7.28804223e-02,\n",
              "         1.19723090e-01,  1.42471295e-01,  1.61027858e-01],\n",
              "       [ 5.05221978e-01,  4.40592581e-01,  4.41431238e-01,\n",
              "         3.60631430e-01,  4.09910204e-01,  4.09089939e-01],\n",
              "       [ 2.00632681e-01,  1.92849628e-01,  1.92734262e-01,\n",
              "         1.75279259e-01,  1.75257308e-01,  1.62789272e-01],\n",
              "       [ 3.05709338e-01,  3.36102266e-01,  3.35942345e-01,\n",
              "         3.56121543e-01,  3.51544041e-01,  3.59124002e-01],\n",
              "       [ 2.34771510e-01,  2.46067034e-01,  2.45784741e-01,\n",
              "         2.30929177e-01,  2.34192699e-01,  2.49043839e-01],\n",
              "       [ 3.50045480e-01,  3.78286569e-01,  3.78397447e-01,\n",
              "         4.04963507e-01,  4.24484019e-01,  4.21024544e-01],\n",
              "       [ 2.83541267e-01,  3.10946350e-01,  3.10695086e-01,\n",
              "         3.20245401e-01,  3.09293517e-01,  3.02805325e-01],\n",
              "       [ 3.05709338e-01,  3.36102266e-01,  3.35942345e-01,\n",
              "         3.56121543e-01,  3.51544041e-01,  3.59124002e-01],\n",
              "       [ 1.70617112e-01,  1.40751857e-01,  1.40947885e-01,\n",
              "         1.40644253e-01,  1.35484064e-01,  1.48738950e-01],\n",
              "       [ 2.45678201e-01,  2.61714718e-01,  2.61414944e-01,\n",
              "         2.50868585e-01,  2.50442234e-01,  2.54070003e-01],\n",
              "       [ 2.08879203e-01,  2.06293305e-01,  2.06120725e-01,\n",
              "         1.87414606e-01,  1.90296782e-01,  1.84384957e-01],\n",
              "       [ 3.50932203e-01,  3.79019721e-01,  3.79136762e-01,\n",
              "         4.05561900e-01,  4.25282311e-01,  4.22880964e-01],\n",
              "       [ 2.09943271e-01,  2.08000664e-01,  2.07821527e-01,\n",
              "         1.89051484e-01,  1.92236004e-01,  1.87675110e-01],\n",
              "       [ 1.46010554e-01,  9.43376059e-02,  9.49237260e-02,\n",
              "         1.24190097e-01,  1.42277174e-01,  1.21378024e-01],\n",
              "       [ 1.80681417e-01,  1.58773870e-01,  1.58846508e-01,\n",
              "         1.50471238e-01,  1.44032253e-01,  1.51708577e-01],\n",
              "       [ 2.01076042e-01,  1.93581942e-01,  1.93463207e-01,\n",
              "         1.75905783e-01,  1.76058390e-01,  1.63713206e-01],\n",
              "       [ 1.99302596e-01,  1.90646182e-01,  1.90541127e-01,\n",
              "         1.73418123e-01,  1.72865826e-01,  1.60213173e-01],\n",
              "       [ 5.47784675e-01,  4.34483012e-01,  4.35121523e-01,\n",
              "         3.75856859e-01,  4.43300489e-01,  4.00444678e-01],\n",
              "       [ 1.94868982e-01,  1.83230923e-01,  1.83162472e-01,\n",
              "         1.67418941e-01,  1.65075243e-01,  1.53847977e-01],\n",
              "       [ 4.33397428e-01,  4.28255933e-01,  4.28927829e-01,\n",
              "         3.99507572e-01,  3.57683039e-01,  3.26972511e-01],\n",
              "       [ 6.24929562e-01,  3.97953999e-01,  3.97367527e-01,\n",
              "         5.19881813e-01,  4.57362630e-01,  4.49104748e-01],\n",
              "       [ 2.17037053e-01,  2.19223544e-01,  2.19005348e-01,\n",
              "         2.00341572e-01,  2.04961779e-01,  2.10278348e-01],\n",
              "       [ 1.93982259e-01,  1.81734868e-01,  1.81674154e-01,\n",
              "         1.66257789e-01,  1.63561743e-01,  1.52988818e-01],\n",
              "       [ 1.79351332e-01,  1.56424129e-01,  1.56511935e-01,\n",
              "         1.49066164e-01,  1.42530607e-01,  1.51960719e-01],\n",
              "       [ 3.69553383e-01,  3.93414595e-01,  3.93663967e-01,\n",
              "         4.14492915e-01,  4.32698476e-01,  4.54697628e-01],\n",
              "       [ 3.42951697e-01,  3.72265307e-01,  3.72327582e-01,\n",
              "         3.99612346e-01,  4.16791115e-01,  4.07058016e-01],\n",
              "       [ 1.83341585e-01,  1.63444094e-01,  1.63487415e-01,\n",
              "         1.53377688e-01,  1.47327802e-01,  1.51044878e-01],\n",
              "       [ 6.11628719e-01,  4.06592833e-01,  4.06311927e-01,\n",
              "         4.88138137e-01,  3.29786532e-01, -1.94852844e+01],\n",
              "       [ 1.66937213e-01,  1.34022896e-01,  1.34269105e-01,\n",
              "         1.37514390e-01,  1.34142315e-01,  1.43624518e-01],\n",
              "       [ 3.01275724e-01,  3.31287817e-01,  3.31106638e-01,\n",
              "         3.49430336e-01,  3.42760924e-01,  3.50227131e-01],\n",
              "       [ 3.41178252e-01,  3.70716645e-01,  3.70766989e-01,\n",
              "         3.98119007e-01,  4.14527304e-01,  4.03934719e-01],\n",
              "       [ 2.39205125e-01,  2.52506989e-01,  2.52215681e-01,\n",
              "         2.38963896e-01,  2.40910090e-01,  2.52367956e-01],\n",
              "       [ 4.10874667e-01,  4.18530034e-01,  4.19067694e-01,\n",
              "         4.11310765e-01,  3.90965739e-01,  3.54480462e-01],\n",
              "       [ 3.50045480e-01,  3.78286569e-01,  3.78397447e-01,\n",
              "         4.04963507e-01,  4.24484019e-01,  4.21024544e-01],\n",
              "       [ 2.18810499e-01,  2.21985918e-01,  2.21759197e-01,\n",
              "         2.03260056e-01,  2.08066026e-01,  2.15726692e-01],\n",
              "       [ 2.53392690e-01,  2.72386618e-01,  2.72083697e-01,\n",
              "         2.65216797e-01,  2.61620219e-01,  2.54698866e-01],\n",
              "       [ 3.03935892e-01,  3.34189490e-01,  3.34020903e-01,\n",
              "         3.53477970e-01,  3.48022706e-01,  3.55757917e-01],\n",
              "       [ 1.91322091e-01,  1.77220693e-01,  1.77184040e-01,\n",
              "         1.62853709e-01,  1.59139023e-01,  1.51193272e-01],\n",
              "       [ 3.05709338e-01,  3.36102266e-01,  3.35942345e-01,\n",
              "         3.56121543e-01,  3.51544041e-01,  3.59124002e-01],\n",
              "       [ 1.91322091e-01,  1.77220693e-01,  1.77184040e-01,\n",
              "         1.62853709e-01,  1.59139023e-01,  1.51193272e-01],\n",
              "       [ 1.36123594e-01,  7.47482245e-02,  7.55289624e-02,\n",
              "         1.20177100e-01,  1.43594112e-01,  1.57419754e-01],\n",
              "       [ 2.68910340e-01,  2.92859359e-01,  2.92571185e-01,\n",
              "         2.94027838e-01,  2.84855195e-01,  2.68000862e-01],\n",
              "       [ 3.05709338e-01,  3.36102266e-01,  3.35942345e-01,\n",
              "         3.56121543e-01,  3.51544041e-01,  3.59124002e-01]])"
            ]
          },
          "metadata": {
            "tags": []
          },
          "execution_count": 90
        }
      ]
    },
    {
      "cell_type": "code",
      "metadata": {
        "colab": {
          "base_uri": "https://localhost:8080/",
          "height": 592
        },
        "id": "ymcfIGI_MZFc",
        "outputId": "825e2597-c3d1-4d90-9127-7c2018a6a12d"
      },
      "source": [
        "#train data\r\n",
        "\r\n",
        "plt.figure(figsize=(15,10))\r\n",
        "\r\n",
        "plt.subplot(1,2,1)\r\n",
        "sns.scatterplot(X_train.reshape(-1),y_train)\r\n",
        "plt.yscale('log')\r\n",
        "for i,degree in enumerate(degrees):\r\n",
        "  plt.scatter(X_train,y_train_pred[:,i], s= 15,label = str(degree))\r\n",
        "  plt.legend(loc='upper left')\r\n",
        "\r\n",
        "\r\n",
        "\r\n",
        "#test data\r\n",
        "\r\n",
        "plt.subplot(1,2,2)\r\n",
        "sns.scatterplot(X_test.reshape(-1),y_test)\r\n",
        "plt.yscale('log')\r\n",
        "for i,degree in enumerate(degrees):\r\n",
        "  plt.scatter(X_test,y_test_pred[:,i], s= 15,label = str(degree))\r\n",
        "  plt.legend(loc='upper left')\r\n",
        "\r\n",
        "\r\n",
        "plt.show()"
      ],
      "execution_count": 91,
      "outputs": [
        {
          "output_type": "display_data",
          "data": {
            "image/png": "[encoded data removed]",
            "text/plain": [
              "<Figure size 1080x720 with 2 Axes>"
            ]
          },
          "metadata": {
            "tags": [],
            "needs_background": "light"
          }
        }
      ]
    },
    {
      "cell_type": "code",
      "metadata": {
        "colab": {
          "base_uri": "https://localhost:8080/"
        },
        "id": "zZi3unHJMpQP",
        "outputId": "011b23a1-c157-4959-b067-df3d87677269"
      },
      "source": [
        "for i, degree in enumerate(degrees):\r\n",
        "  print(\"Polynomial degree {0}: Train R2 Score: {1}, Test R2 Score: {2}\".format(degree,round(r2_score(y_train,y_train_pred[:,i]),2),round(r2_score(y_test,y_test_pred[:,i]),2)))"
      ],
      "execution_count": 92,
      "outputs": [
        {
          "output_type": "stream",
          "text": [
            "Polynomial degree 1: Train R2 Score: 0.29, Test R2 Score: 0.25\n",
            "Polynomial degree 2: Train R2 Score: 0.34, Test R2 Score: 0.22\n",
            "Polynomial degree 3: Train R2 Score: 0.34, Test R2 Score: 0.22\n",
            "Polynomial degree 6: Train R2 Score: 0.36, Test R2 Score: 0.11\n",
            "Polynomial degree 10: Train R2 Score: 0.37, Test R2 Score: -108.76\n",
            "Polynomial degree 20: Train R2 Score: 0.38, Test R2 Score: -328827570133.84\n"
          ],
          "name": "stdout"
        }
      ]
    },
    {
      "cell_type": "code",
      "metadata": {
        "id": "-6nVlBVuQQem"
      },
      "source": [
        "#Cross Fold"
      ],
      "execution_count": 93,
      "outputs": []
    },
    {
      "cell_type": "code",
      "metadata": {
        "id": "JdVWiQUNA4Nh",
        "colab": {
          "base_uri": "https://localhost:8080/",
          "height": 197
        },
        "outputId": "67a75c1b-fe2e-46ca-a2cb-999bcdb06f73"
      },
      "source": [
        "# data preparation\n",
        "\n",
        "# list of all the \"yes-no\" binary categorical variables\n",
        "# we'll map yes to 1 and no to 0\n",
        "binary_vars_list =  ['mainroad', 'guestroom', 'basement', 'hotwaterheating', 'airconditioning', 'prefarea']\n",
        "\n",
        "# defining the map function\n",
        "def binary_map(x):\n",
        "    return x.map({'yes': 1, \"no\": 0})\n",
        "\n",
        "# applying the function to the housing variables list\n",
        "Housing_df[binary_vars_list] = Housing_df[binary_vars_list].apply(binary_map)\n",
        "Housing_df.head()"
      ],
      "execution_count": 94,
      "outputs": [
        {
          "output_type": "execute_result",
          "data": {
            "text/html": [
              "<div>\n",
              "<style scoped>\n",
              "    .dataframe tbody tr th:only-of-type {\n",
              "        vertical-align: middle;\n",
              "    }\n",
              "\n",
              "    .dataframe tbody tr th {\n",
              "        vertical-align: top;\n",
              "    }\n",
              "\n",
              "    .dataframe thead th {\n",
              "        text-align: right;\n",
              "    }\n",
              "</style>\n",
              "<table border=\"1\" class=\"dataframe\">\n",
              "  <thead>\n",
              "    <tr style=\"text-align: right;\">\n",
              "      <th></th>\n",
              "      <th>price</th>\n",
              "      <th>area</th>\n",
              "      <th>bedrooms</th>\n",
              "      <th>bathrooms</th>\n",
              "      <th>stories</th>\n",
              "      <th>mainroad</th>\n",
              "      <th>guestroom</th>\n",
              "      <th>basement</th>\n",
              "      <th>hotwaterheating</th>\n",
              "      <th>airconditioning</th>\n",
              "      <th>parking</th>\n",
              "      <th>prefarea</th>\n",
              "      <th>furnishingstatus</th>\n",
              "    </tr>\n",
              "  </thead>\n",
              "  <tbody>\n",
              "    <tr>\n",
              "      <th>0</th>\n",
              "      <td>13300000</td>\n",
              "      <td>7420</td>\n",
              "      <td>4</td>\n",
              "      <td>2</td>\n",
              "      <td>3</td>\n",
              "      <td>1</td>\n",
              "      <td>0</td>\n",
              "      <td>0</td>\n",
              "      <td>0</td>\n",
              "      <td>1</td>\n",
              "      <td>2</td>\n",
              "      <td>1</td>\n",
              "      <td>furnished</td>\n",
              "    </tr>\n",
              "    <tr>\n",
              "      <th>1</th>\n",
              "      <td>12250000</td>\n",
              "      <td>8960</td>\n",
              "      <td>4</td>\n",
              "      <td>4</td>\n",
              "      <td>4</td>\n",
              "      <td>1</td>\n",
              "      <td>0</td>\n",
              "      <td>0</td>\n",
              "      <td>0</td>\n",
              "      <td>1</td>\n",
              "      <td>3</td>\n",
              "      <td>0</td>\n",
              "      <td>furnished</td>\n",
              "    </tr>\n",
              "    <tr>\n",
              "      <th>2</th>\n",
              "      <td>12250000</td>\n",
              "      <td>9960</td>\n",
              "      <td>3</td>\n",
              "      <td>2</td>\n",
              "      <td>2</td>\n",
              "      <td>1</td>\n",
              "      <td>0</td>\n",
              "      <td>1</td>\n",
              "      <td>0</td>\n",
              "      <td>0</td>\n",
              "      <td>2</td>\n",
              "      <td>1</td>\n",
              "      <td>semi-furnished</td>\n",
              "    </tr>\n",
              "    <tr>\n",
              "      <th>3</th>\n",
              "      <td>12215000</td>\n",
              "      <td>7500</td>\n",
              "      <td>4</td>\n",
              "      <td>2</td>\n",
              "      <td>2</td>\n",
              "      <td>1</td>\n",
              "      <td>0</td>\n",
              "      <td>1</td>\n",
              "      <td>0</td>\n",
              "      <td>1</td>\n",
              "      <td>3</td>\n",
              "      <td>1</td>\n",
              "      <td>furnished</td>\n",
              "    </tr>\n",
              "    <tr>\n",
              "      <th>4</th>\n",
              "      <td>11410000</td>\n",
              "      <td>7420</td>\n",
              "      <td>4</td>\n",
              "      <td>1</td>\n",
              "      <td>2</td>\n",
              "      <td>1</td>\n",
              "      <td>1</td>\n",
              "      <td>1</td>\n",
              "      <td>0</td>\n",
              "      <td>1</td>\n",
              "      <td>2</td>\n",
              "      <td>0</td>\n",
              "      <td>furnished</td>\n",
              "    </tr>\n",
              "  </tbody>\n",
              "</table>\n",
              "</div>"
            ],
            "text/plain": [
              "      price  area  bedrooms  ...  parking  prefarea  furnishingstatus\n",
              "0  13300000  7420         4  ...        2         1         furnished\n",
              "1  12250000  8960         4  ...        3         0         furnished\n",
              "2  12250000  9960         3  ...        2         1    semi-furnished\n",
              "3  12215000  7500         4  ...        3         1         furnished\n",
              "4  11410000  7420         4  ...        2         0         furnished\n",
              "\n",
              "[5 rows x 13 columns]"
            ]
          },
          "metadata": {
            "tags": []
          },
          "execution_count": 94
        }
      ]
    },
    {
      "cell_type": "code",
      "metadata": {
        "id": "xQyUxnrOA4Nh",
        "colab": {
          "base_uri": "https://localhost:8080/",
          "height": 197
        },
        "outputId": "ce635b8e-774c-4aed-9e51-8627ea993fb7"
      },
      "source": [
        "# 'dummy' variables\n",
        "# get dummy variables for 'furnishingstatus' \n",
        "# also, drop the first column of the resulting df (since n-1 dummy vars suffice)\n",
        "status = pd.get_dummies(Housing_df['furnishingstatus'], drop_first = True)\n",
        "status.head()"
      ],
      "execution_count": 95,
      "outputs": [
        {
          "output_type": "execute_result",
          "data": {
            "text/html": [
              "<div>\n",
              "<style scoped>\n",
              "    .dataframe tbody tr th:only-of-type {\n",
              "        vertical-align: middle;\n",
              "    }\n",
              "\n",
              "    .dataframe tbody tr th {\n",
              "        vertical-align: top;\n",
              "    }\n",
              "\n",
              "    .dataframe thead th {\n",
              "        text-align: right;\n",
              "    }\n",
              "</style>\n",
              "<table border=\"1\" class=\"dataframe\">\n",
              "  <thead>\n",
              "    <tr style=\"text-align: right;\">\n",
              "      <th></th>\n",
              "      <th>semi-furnished</th>\n",
              "      <th>unfurnished</th>\n",
              "    </tr>\n",
              "  </thead>\n",
              "  <tbody>\n",
              "    <tr>\n",
              "      <th>0</th>\n",
              "      <td>0</td>\n",
              "      <td>0</td>\n",
              "    </tr>\n",
              "    <tr>\n",
              "      <th>1</th>\n",
              "      <td>0</td>\n",
              "      <td>0</td>\n",
              "    </tr>\n",
              "    <tr>\n",
              "      <th>2</th>\n",
              "      <td>1</td>\n",
              "      <td>0</td>\n",
              "    </tr>\n",
              "    <tr>\n",
              "      <th>3</th>\n",
              "      <td>0</td>\n",
              "      <td>0</td>\n",
              "    </tr>\n",
              "    <tr>\n",
              "      <th>4</th>\n",
              "      <td>0</td>\n",
              "      <td>0</td>\n",
              "    </tr>\n",
              "  </tbody>\n",
              "</table>\n",
              "</div>"
            ],
            "text/plain": [
              "   semi-furnished  unfurnished\n",
              "0               0            0\n",
              "1               0            0\n",
              "2               1            0\n",
              "3               0            0\n",
              "4               0            0"
            ]
          },
          "metadata": {
            "tags": []
          },
          "execution_count": 95
        }
      ]
    },
    {
      "cell_type": "code",
      "metadata": {
        "id": "mPfnFy-dA4Ni",
        "colab": {
          "base_uri": "https://localhost:8080/",
          "height": 197
        },
        "outputId": "1322dd87-893c-4f42-a5c3-2bee2d9a90bd"
      },
      "source": [
        "# concat the dummy variable df with the main df\n",
        "Housing_df = pd.concat([Housing_df, status], axis = 1)\n",
        "Housing_df.head()"
      ],
      "execution_count": 96,
      "outputs": [
        {
          "output_type": "execute_result",
          "data": {
            "text/html": [
              "<div>\n",
              "<style scoped>\n",
              "    .dataframe tbody tr th:only-of-type {\n",
              "        vertical-align: middle;\n",
              "    }\n",
              "\n",
              "    .dataframe tbody tr th {\n",
              "        vertical-align: top;\n",
              "    }\n",
              "\n",
              "    .dataframe thead th {\n",
              "        text-align: right;\n",
              "    }\n",
              "</style>\n",
              "<table border=\"1\" class=\"dataframe\">\n",
              "  <thead>\n",
              "    <tr style=\"text-align: right;\">\n",
              "      <th></th>\n",
              "      <th>price</th>\n",
              "      <th>area</th>\n",
              "      <th>bedrooms</th>\n",
              "      <th>bathrooms</th>\n",
              "      <th>stories</th>\n",
              "      <th>mainroad</th>\n",
              "      <th>guestroom</th>\n",
              "      <th>basement</th>\n",
              "      <th>hotwaterheating</th>\n",
              "      <th>airconditioning</th>\n",
              "      <th>parking</th>\n",
              "      <th>prefarea</th>\n",
              "      <th>furnishingstatus</th>\n",
              "      <th>semi-furnished</th>\n",
              "      <th>unfurnished</th>\n",
              "    </tr>\n",
              "  </thead>\n",
              "  <tbody>\n",
              "    <tr>\n",
              "      <th>0</th>\n",
              "      <td>13300000</td>\n",
              "      <td>7420</td>\n",
              "      <td>4</td>\n",
              "      <td>2</td>\n",
              "      <td>3</td>\n",
              "      <td>1</td>\n",
              "      <td>0</td>\n",
              "      <td>0</td>\n",
              "      <td>0</td>\n",
              "      <td>1</td>\n",
              "      <td>2</td>\n",
              "      <td>1</td>\n",
              "      <td>furnished</td>\n",
              "      <td>0</td>\n",
              "      <td>0</td>\n",
              "    </tr>\n",
              "    <tr>\n",
              "      <th>1</th>\n",
              "      <td>12250000</td>\n",
              "      <td>8960</td>\n",
              "      <td>4</td>\n",
              "      <td>4</td>\n",
              "      <td>4</td>\n",
              "      <td>1</td>\n",
              "      <td>0</td>\n",
              "      <td>0</td>\n",
              "      <td>0</td>\n",
              "      <td>1</td>\n",
              "      <td>3</td>\n",
              "      <td>0</td>\n",
              "      <td>furnished</td>\n",
              "      <td>0</td>\n",
              "      <td>0</td>\n",
              "    </tr>\n",
              "    <tr>\n",
              "      <th>2</th>\n",
              "      <td>12250000</td>\n",
              "      <td>9960</td>\n",
              "      <td>3</td>\n",
              "      <td>2</td>\n",
              "      <td>2</td>\n",
              "      <td>1</td>\n",
              "      <td>0</td>\n",
              "      <td>1</td>\n",
              "      <td>0</td>\n",
              "      <td>0</td>\n",
              "      <td>2</td>\n",
              "      <td>1</td>\n",
              "      <td>semi-furnished</td>\n",
              "      <td>1</td>\n",
              "      <td>0</td>\n",
              "    </tr>\n",
              "    <tr>\n",
              "      <th>3</th>\n",
              "      <td>12215000</td>\n",
              "      <td>7500</td>\n",
              "      <td>4</td>\n",
              "      <td>2</td>\n",
              "      <td>2</td>\n",
              "      <td>1</td>\n",
              "      <td>0</td>\n",
              "      <td>1</td>\n",
              "      <td>0</td>\n",
              "      <td>1</td>\n",
              "      <td>3</td>\n",
              "      <td>1</td>\n",
              "      <td>furnished</td>\n",
              "      <td>0</td>\n",
              "      <td>0</td>\n",
              "    </tr>\n",
              "    <tr>\n",
              "      <th>4</th>\n",
              "      <td>11410000</td>\n",
              "      <td>7420</td>\n",
              "      <td>4</td>\n",
              "      <td>1</td>\n",
              "      <td>2</td>\n",
              "      <td>1</td>\n",
              "      <td>1</td>\n",
              "      <td>1</td>\n",
              "      <td>0</td>\n",
              "      <td>1</td>\n",
              "      <td>2</td>\n",
              "      <td>0</td>\n",
              "      <td>furnished</td>\n",
              "      <td>0</td>\n",
              "      <td>0</td>\n",
              "    </tr>\n",
              "  </tbody>\n",
              "</table>\n",
              "</div>"
            ],
            "text/plain": [
              "      price  area  bedrooms  ...  furnishingstatus  semi-furnished  unfurnished\n",
              "0  13300000  7420         4  ...         furnished               0            0\n",
              "1  12250000  8960         4  ...         furnished               0            0\n",
              "2  12250000  9960         3  ...    semi-furnished               1            0\n",
              "3  12215000  7500         4  ...         furnished               0            0\n",
              "4  11410000  7420         4  ...         furnished               0            0\n",
              "\n",
              "[5 rows x 15 columns]"
            ]
          },
          "metadata": {
            "tags": []
          },
          "execution_count": 96
        }
      ]
    },
    {
      "cell_type": "code",
      "metadata": {
        "id": "NA9V4esAA4Ni",
        "colab": {
          "base_uri": "https://localhost:8080/",
          "height": 197
        },
        "outputId": "bb78fb73-b609-4060-b0a7-ad3596fabf5f"
      },
      "source": [
        "# 'furnishingstatus' since we alreday have the dummy vars\n",
        "Housing_df.drop(['furnishingstatus'], axis = 1, inplace = True)\n",
        "Housing_df.head()"
      ],
      "execution_count": 97,
      "outputs": [
        {
          "output_type": "execute_result",
          "data": {
            "text/html": [
              "<div>\n",
              "<style scoped>\n",
              "    .dataframe tbody tr th:only-of-type {\n",
              "        vertical-align: middle;\n",
              "    }\n",
              "\n",
              "    .dataframe tbody tr th {\n",
              "        vertical-align: top;\n",
              "    }\n",
              "\n",
              "    .dataframe thead th {\n",
              "        text-align: right;\n",
              "    }\n",
              "</style>\n",
              "<table border=\"1\" class=\"dataframe\">\n",
              "  <thead>\n",
              "    <tr style=\"text-align: right;\">\n",
              "      <th></th>\n",
              "      <th>price</th>\n",
              "      <th>area</th>\n",
              "      <th>bedrooms</th>\n",
              "      <th>bathrooms</th>\n",
              "      <th>stories</th>\n",
              "      <th>mainroad</th>\n",
              "      <th>guestroom</th>\n",
              "      <th>basement</th>\n",
              "      <th>hotwaterheating</th>\n",
              "      <th>airconditioning</th>\n",
              "      <th>parking</th>\n",
              "      <th>prefarea</th>\n",
              "      <th>semi-furnished</th>\n",
              "      <th>unfurnished</th>\n",
              "    </tr>\n",
              "  </thead>\n",
              "  <tbody>\n",
              "    <tr>\n",
              "      <th>0</th>\n",
              "      <td>13300000</td>\n",
              "      <td>7420</td>\n",
              "      <td>4</td>\n",
              "      <td>2</td>\n",
              "      <td>3</td>\n",
              "      <td>1</td>\n",
              "      <td>0</td>\n",
              "      <td>0</td>\n",
              "      <td>0</td>\n",
              "      <td>1</td>\n",
              "      <td>2</td>\n",
              "      <td>1</td>\n",
              "      <td>0</td>\n",
              "      <td>0</td>\n",
              "    </tr>\n",
              "    <tr>\n",
              "      <th>1</th>\n",
              "      <td>12250000</td>\n",
              "      <td>8960</td>\n",
              "      <td>4</td>\n",
              "      <td>4</td>\n",
              "      <td>4</td>\n",
              "      <td>1</td>\n",
              "      <td>0</td>\n",
              "      <td>0</td>\n",
              "      <td>0</td>\n",
              "      <td>1</td>\n",
              "      <td>3</td>\n",
              "      <td>0</td>\n",
              "      <td>0</td>\n",
              "      <td>0</td>\n",
              "    </tr>\n",
              "    <tr>\n",
              "      <th>2</th>\n",
              "      <td>12250000</td>\n",
              "      <td>9960</td>\n",
              "      <td>3</td>\n",
              "      <td>2</td>\n",
              "      <td>2</td>\n",
              "      <td>1</td>\n",
              "      <td>0</td>\n",
              "      <td>1</td>\n",
              "      <td>0</td>\n",
              "      <td>0</td>\n",
              "      <td>2</td>\n",
              "      <td>1</td>\n",
              "      <td>1</td>\n",
              "      <td>0</td>\n",
              "    </tr>\n",
              "    <tr>\n",
              "      <th>3</th>\n",
              "      <td>12215000</td>\n",
              "      <td>7500</td>\n",
              "      <td>4</td>\n",
              "      <td>2</td>\n",
              "      <td>2</td>\n",
              "      <td>1</td>\n",
              "      <td>0</td>\n",
              "      <td>1</td>\n",
              "      <td>0</td>\n",
              "      <td>1</td>\n",
              "      <td>3</td>\n",
              "      <td>1</td>\n",
              "      <td>0</td>\n",
              "      <td>0</td>\n",
              "    </tr>\n",
              "    <tr>\n",
              "      <th>4</th>\n",
              "      <td>11410000</td>\n",
              "      <td>7420</td>\n",
              "      <td>4</td>\n",
              "      <td>1</td>\n",
              "      <td>2</td>\n",
              "      <td>1</td>\n",
              "      <td>1</td>\n",
              "      <td>1</td>\n",
              "      <td>0</td>\n",
              "      <td>1</td>\n",
              "      <td>2</td>\n",
              "      <td>0</td>\n",
              "      <td>0</td>\n",
              "      <td>0</td>\n",
              "    </tr>\n",
              "  </tbody>\n",
              "</table>\n",
              "</div>"
            ],
            "text/plain": [
              "      price  area  bedrooms  ...  prefarea  semi-furnished  unfurnished\n",
              "0  13300000  7420         4  ...         1               0            0\n",
              "1  12250000  8960         4  ...         0               0            0\n",
              "2  12250000  9960         3  ...         1               1            0\n",
              "3  12215000  7500         4  ...         1               0            0\n",
              "4  11410000  7420         4  ...         0               0            0\n",
              "\n",
              "[5 rows x 14 columns]"
            ]
          },
          "metadata": {
            "tags": []
          },
          "execution_count": 97
        }
      ]
    },
    {
      "cell_type": "markdown",
      "metadata": {
        "id": "EXWN3kzfA4Ni"
      },
      "source": [
        "#### Splitting Into Train and Test"
      ]
    },
    {
      "cell_type": "code",
      "metadata": {
        "scrolled": true,
        "id": "QCHbBDOXA4Ni",
        "colab": {
          "base_uri": "https://localhost:8080/",
          "height": 197
        },
        "outputId": "c45d903b-0bba-4588-95b1-66234787e789"
      },
      "source": [
        "# train-test 70-30 split\n",
        "df_train, df_test = train_test_split(Housing_df, \n",
        "                                     train_size = 0.7, \n",
        "                                     test_size = 0.3, \n",
        "                                     random_state = 100)\n",
        "\n",
        "# rescale the features\n",
        "scaler = MinMaxScaler()\n",
        "\n",
        "# apply scaler() to all the numeric columns \n",
        "numeric_vars = ['area', 'bedrooms', 'bathrooms', 'stories', 'parking','price']\n",
        "df_train[numeric_vars] = scaler.fit_transform(df_train[numeric_vars])\n",
        "df_train.head()"
      ],
      "execution_count": 98,
      "outputs": [
        {
          "output_type": "execute_result",
          "data": {
            "text/html": [
              "<div>\n",
              "<style scoped>\n",
              "    .dataframe tbody tr th:only-of-type {\n",
              "        vertical-align: middle;\n",
              "    }\n",
              "\n",
              "    .dataframe tbody tr th {\n",
              "        vertical-align: top;\n",
              "    }\n",
              "\n",
              "    .dataframe thead th {\n",
              "        text-align: right;\n",
              "    }\n",
              "</style>\n",
              "<table border=\"1\" class=\"dataframe\">\n",
              "  <thead>\n",
              "    <tr style=\"text-align: right;\">\n",
              "      <th></th>\n",
              "      <th>price</th>\n",
              "      <th>area</th>\n",
              "      <th>bedrooms</th>\n",
              "      <th>bathrooms</th>\n",
              "      <th>stories</th>\n",
              "      <th>mainroad</th>\n",
              "      <th>guestroom</th>\n",
              "      <th>basement</th>\n",
              "      <th>hotwaterheating</th>\n",
              "      <th>airconditioning</th>\n",
              "      <th>parking</th>\n",
              "      <th>prefarea</th>\n",
              "      <th>semi-furnished</th>\n",
              "      <th>unfurnished</th>\n",
              "    </tr>\n",
              "  </thead>\n",
              "  <tbody>\n",
              "    <tr>\n",
              "      <th>359</th>\n",
              "      <td>0.169697</td>\n",
              "      <td>0.155227</td>\n",
              "      <td>0.4</td>\n",
              "      <td>0.0</td>\n",
              "      <td>0.000000</td>\n",
              "      <td>1</td>\n",
              "      <td>0</td>\n",
              "      <td>0</td>\n",
              "      <td>0</td>\n",
              "      <td>0</td>\n",
              "      <td>0.333333</td>\n",
              "      <td>0</td>\n",
              "      <td>0</td>\n",
              "      <td>1</td>\n",
              "    </tr>\n",
              "    <tr>\n",
              "      <th>19</th>\n",
              "      <td>0.615152</td>\n",
              "      <td>0.403379</td>\n",
              "      <td>0.4</td>\n",
              "      <td>0.5</td>\n",
              "      <td>0.333333</td>\n",
              "      <td>1</td>\n",
              "      <td>0</td>\n",
              "      <td>0</td>\n",
              "      <td>0</td>\n",
              "      <td>1</td>\n",
              "      <td>0.333333</td>\n",
              "      <td>1</td>\n",
              "      <td>1</td>\n",
              "      <td>0</td>\n",
              "    </tr>\n",
              "    <tr>\n",
              "      <th>159</th>\n",
              "      <td>0.321212</td>\n",
              "      <td>0.115628</td>\n",
              "      <td>0.4</td>\n",
              "      <td>0.5</td>\n",
              "      <td>0.000000</td>\n",
              "      <td>1</td>\n",
              "      <td>1</td>\n",
              "      <td>1</td>\n",
              "      <td>0</td>\n",
              "      <td>1</td>\n",
              "      <td>0.000000</td>\n",
              "      <td>0</td>\n",
              "      <td>0</td>\n",
              "      <td>0</td>\n",
              "    </tr>\n",
              "    <tr>\n",
              "      <th>35</th>\n",
              "      <td>0.548133</td>\n",
              "      <td>0.454417</td>\n",
              "      <td>0.4</td>\n",
              "      <td>0.5</td>\n",
              "      <td>1.000000</td>\n",
              "      <td>1</td>\n",
              "      <td>0</td>\n",
              "      <td>0</td>\n",
              "      <td>0</td>\n",
              "      <td>1</td>\n",
              "      <td>0.666667</td>\n",
              "      <td>0</td>\n",
              "      <td>0</td>\n",
              "      <td>0</td>\n",
              "    </tr>\n",
              "    <tr>\n",
              "      <th>28</th>\n",
              "      <td>0.575758</td>\n",
              "      <td>0.538015</td>\n",
              "      <td>0.8</td>\n",
              "      <td>0.5</td>\n",
              "      <td>0.333333</td>\n",
              "      <td>1</td>\n",
              "      <td>0</td>\n",
              "      <td>1</td>\n",
              "      <td>1</td>\n",
              "      <td>0</td>\n",
              "      <td>0.666667</td>\n",
              "      <td>0</td>\n",
              "      <td>0</td>\n",
              "      <td>1</td>\n",
              "    </tr>\n",
              "  </tbody>\n",
              "</table>\n",
              "</div>"
            ],
            "text/plain": [
              "        price      area  bedrooms  ...  prefarea  semi-furnished  unfurnished\n",
              "359  0.169697  0.155227       0.4  ...         0               0            1\n",
              "19   0.615152  0.403379       0.4  ...         1               1            0\n",
              "159  0.321212  0.115628       0.4  ...         0               0            0\n",
              "35   0.548133  0.454417       0.4  ...         0               0            0\n",
              "28   0.575758  0.538015       0.8  ...         0               0            1\n",
              "\n",
              "[5 rows x 14 columns]"
            ]
          },
          "metadata": {
            "tags": []
          },
          "execution_count": 98
        }
      ]
    },
    {
      "cell_type": "code",
      "metadata": {
        "id": "bwQAITCrA4Nj",
        "colab": {
          "base_uri": "https://localhost:8080/",
          "height": 197
        },
        "outputId": "eeb7fac7-5e4b-4127-f1b5-9dfb71699149"
      },
      "source": [
        "# apply rescaling to the test set also\n",
        "df_test[numeric_vars] = scaler.transform(df_test[numeric_vars])\n",
        "df_test.head()"
      ],
      "execution_count": 99,
      "outputs": [
        {
          "output_type": "execute_result",
          "data": {
            "text/html": [
              "<div>\n",
              "<style scoped>\n",
              "    .dataframe tbody tr th:only-of-type {\n",
              "        vertical-align: middle;\n",
              "    }\n",
              "\n",
              "    .dataframe tbody tr th {\n",
              "        vertical-align: top;\n",
              "    }\n",
              "\n",
              "    .dataframe thead th {\n",
              "        text-align: right;\n",
              "    }\n",
              "</style>\n",
              "<table border=\"1\" class=\"dataframe\">\n",
              "  <thead>\n",
              "    <tr style=\"text-align: right;\">\n",
              "      <th></th>\n",
              "      <th>price</th>\n",
              "      <th>area</th>\n",
              "      <th>bedrooms</th>\n",
              "      <th>bathrooms</th>\n",
              "      <th>stories</th>\n",
              "      <th>mainroad</th>\n",
              "      <th>guestroom</th>\n",
              "      <th>basement</th>\n",
              "      <th>hotwaterheating</th>\n",
              "      <th>airconditioning</th>\n",
              "      <th>parking</th>\n",
              "      <th>prefarea</th>\n",
              "      <th>semi-furnished</th>\n",
              "      <th>unfurnished</th>\n",
              "    </tr>\n",
              "  </thead>\n",
              "  <tbody>\n",
              "    <tr>\n",
              "      <th>265</th>\n",
              "      <td>0.229697</td>\n",
              "      <td>0.091869</td>\n",
              "      <td>0.4</td>\n",
              "      <td>0.0</td>\n",
              "      <td>0.333333</td>\n",
              "      <td>1</td>\n",
              "      <td>0</td>\n",
              "      <td>0</td>\n",
              "      <td>0</td>\n",
              "      <td>0</td>\n",
              "      <td>0.000000</td>\n",
              "      <td>1</td>\n",
              "      <td>1</td>\n",
              "      <td>0</td>\n",
              "    </tr>\n",
              "    <tr>\n",
              "      <th>54</th>\n",
              "      <td>0.484848</td>\n",
              "      <td>0.366420</td>\n",
              "      <td>0.4</td>\n",
              "      <td>0.5</td>\n",
              "      <td>0.333333</td>\n",
              "      <td>1</td>\n",
              "      <td>1</td>\n",
              "      <td>0</td>\n",
              "      <td>0</td>\n",
              "      <td>1</td>\n",
              "      <td>0.333333</td>\n",
              "      <td>0</td>\n",
              "      <td>1</td>\n",
              "      <td>0</td>\n",
              "    </tr>\n",
              "    <tr>\n",
              "      <th>171</th>\n",
              "      <td>0.303030</td>\n",
              "      <td>0.742080</td>\n",
              "      <td>0.4</td>\n",
              "      <td>0.0</td>\n",
              "      <td>0.000000</td>\n",
              "      <td>1</td>\n",
              "      <td>0</td>\n",
              "      <td>0</td>\n",
              "      <td>0</td>\n",
              "      <td>0</td>\n",
              "      <td>0.333333</td>\n",
              "      <td>1</td>\n",
              "      <td>1</td>\n",
              "      <td>0</td>\n",
              "    </tr>\n",
              "    <tr>\n",
              "      <th>244</th>\n",
              "      <td>0.242424</td>\n",
              "      <td>0.306582</td>\n",
              "      <td>0.4</td>\n",
              "      <td>0.0</td>\n",
              "      <td>0.333333</td>\n",
              "      <td>1</td>\n",
              "      <td>1</td>\n",
              "      <td>1</td>\n",
              "      <td>0</td>\n",
              "      <td>0</td>\n",
              "      <td>0.000000</td>\n",
              "      <td>1</td>\n",
              "      <td>1</td>\n",
              "      <td>0</td>\n",
              "    </tr>\n",
              "    <tr>\n",
              "      <th>268</th>\n",
              "      <td>0.227879</td>\n",
              "      <td>0.274023</td>\n",
              "      <td>0.6</td>\n",
              "      <td>0.0</td>\n",
              "      <td>0.333333</td>\n",
              "      <td>1</td>\n",
              "      <td>0</td>\n",
              "      <td>0</td>\n",
              "      <td>0</td>\n",
              "      <td>1</td>\n",
              "      <td>0.000000</td>\n",
              "      <td>0</td>\n",
              "      <td>1</td>\n",
              "      <td>0</td>\n",
              "    </tr>\n",
              "  </tbody>\n",
              "</table>\n",
              "</div>"
            ],
            "text/plain": [
              "        price      area  bedrooms  ...  prefarea  semi-furnished  unfurnished\n",
              "265  0.229697  0.091869       0.4  ...         1               1            0\n",
              "54   0.484848  0.366420       0.4  ...         0               1            0\n",
              "171  0.303030  0.742080       0.4  ...         1               1            0\n",
              "244  0.242424  0.306582       0.4  ...         1               1            0\n",
              "268  0.227879  0.274023       0.6  ...         0               1            0\n",
              "\n",
              "[5 rows x 14 columns]"
            ]
          },
          "metadata": {
            "tags": []
          },
          "execution_count": 99
        }
      ]
    },
    {
      "cell_type": "code",
      "metadata": {
        "id": "MOS6uNV-A4Nj"
      },
      "source": [
        "# divide into X_train, y_train, X_test, y_test\n",
        "y_train = df_train.pop('price')\n",
        "X_train = df_train\n",
        "\n",
        "y_test = df_test.pop('price')\n",
        "X_test = df_test"
      ],
      "execution_count": 100,
      "outputs": []
    },
    {
      "cell_type": "code",
      "metadata": {
        "id": "tKYxq4R4Ypqh"
      },
      "source": [
        "from sklearn.model_selection import cross_val_score\r\n",
        "from sklearn.model_selection import KFold\r\n",
        "from sklearn.model_selection import GridSearchCV\r\n",
        "from sklearn.feature_selection import RFE"
      ],
      "execution_count": 101,
      "outputs": []
    },
    {
      "cell_type": "code",
      "metadata": {
        "colab": {
          "base_uri": "https://localhost:8080/"
        },
        "id": "5pGXOf56ZalP",
        "outputId": "46ea6dbb-ed99-434d-92e3-5fec26e18727"
      },
      "source": [
        "lm = LinearRegression()\r\n",
        "\r\n",
        "\r\n",
        "Kfold = KFold(n_splits=5,shuffle=True,random_state=100)\r\n",
        "score = cross_val_score(lm,X_train,y_train,scoring='r2',verbose=1,cv=Kfold)\r\n",
        "score"
      ],
      "execution_count": 103,
      "outputs": [
        {
          "output_type": "stream",
          "text": [
            "[Parallel(n_jobs=1)]: Using backend SequentialBackend with 1 concurrent workers.\n",
            "[Parallel(n_jobs=1)]: Done   5 out of   5 | elapsed:    0.0s finished\n"
          ],
          "name": "stderr"
        },
        {
          "output_type": "execute_result",
          "data": {
            "text/plain": [
              "array([0.59930574, 0.71307628, 0.61325733, 0.62739077, 0.6212937 ])"
            ]
          },
          "metadata": {
            "tags": []
          },
          "execution_count": 103
        }
      ]
    },
    {
      "cell_type": "code",
      "metadata": {
        "colab": {
          "base_uri": "https://localhost:8080/"
        },
        "id": "6kYVLgPdaUC8",
        "outputId": "7cfb1c5a-716c-4517-d104-15386b42de7a"
      },
      "source": [
        "Kfold = KFold(n_splits=5,shuffle=True,random_state=100)\r\n",
        "\r\n",
        "lm = LinearRegression()\r\n",
        "lm.fit(X_train,y_train)\r\n",
        "rfe = RFE(lm)\r\n",
        "hyper_params = [{'n_features_to_select': list(range(1,14))}]\r\n",
        "grid_search = GridSearchCV(estimator=rfe,\r\n",
        "                            param_grid = hyper_params,\r\n",
        "                           scoring = 'r2',\r\n",
        "                           return_train_score=True,\r\n",
        "                           n_jobs=-1,\r\n",
        "                           verbose=1)\r\n",
        "grid_search.fit(X_train,y_train)"
      ],
      "execution_count": 105,
      "outputs": [
        {
          "output_type": "stream",
          "text": [
            "Fitting 5 folds for each of 13 candidates, totalling 65 fits\n"
          ],
          "name": "stdout"
        },
        {
          "output_type": "stream",
          "text": [
            "[Parallel(n_jobs=-1)]: Using backend LokyBackend with 2 concurrent workers.\n",
            "[Parallel(n_jobs=-1)]: Done  65 out of  65 | elapsed:    1.8s finished\n"
          ],
          "name": "stderr"
        },
        {
          "output_type": "execute_result",
          "data": {
            "text/plain": [
              "GridSearchCV(cv=None, error_score=nan,\n",
              "             estimator=RFE(estimator=LinearRegression(copy_X=True,\n",
              "                                                      fit_intercept=True,\n",
              "                                                      n_jobs=None,\n",
              "                                                      normalize=False),\n",
              "                           n_features_to_select=None, step=1, verbose=0),\n",
              "             iid='deprecated', n_jobs=-1,\n",
              "             param_grid=[{'n_features_to_select': [1, 2, 3, 4, 5, 6, 7, 8, 9,\n",
              "                                                   10, 11, 12, 13]}],\n",
              "             pre_dispatch='2*n_jobs', refit=True, return_train_score=True,\n",
              "             scoring='r2', verbose=1)"
            ]
          },
          "metadata": {
            "tags": []
          },
          "execution_count": 105
        }
      ]
    },
    {
      "cell_type": "code",
      "metadata": {
        "colab": {
          "base_uri": "https://localhost:8080/"
        },
        "id": "0esLJZzDekhW",
        "outputId": "2543eb3f-04a5-4f3d-ae12-399a73030991"
      },
      "source": [
        "rfe_best = grid_search.best_estimator_\r\n",
        "rfe_best"
      ],
      "execution_count": 111,
      "outputs": [
        {
          "output_type": "execute_result",
          "data": {
            "text/plain": [
              "RFE(estimator=LinearRegression(copy_X=True, fit_intercept=True, n_jobs=None,\n",
              "                               normalize=False),\n",
              "    n_features_to_select=12, step=1, verbose=0)"
            ]
          },
          "metadata": {
            "tags": []
          },
          "execution_count": 111
        }
      ]
    },
    {
      "cell_type": "code",
      "metadata": {
        "colab": {
          "base_uri": "https://localhost:8080/",
          "height": 674
        },
        "id": "jnXEr5UReqc8",
        "outputId": "5b468c18-a37b-4125-aee1-c1f8fc912b53"
      },
      "source": [
        "results = pd.DataFrame(grid_search.cv_results_)\r\n",
        "results"
      ],
      "execution_count": 115,
      "outputs": [
        {
          "output_type": "execute_result",
          "data": {
            "text/html": [
              "<div>\n",
              "<style scoped>\n",
              "    .dataframe tbody tr th:only-of-type {\n",
              "        vertical-align: middle;\n",
              "    }\n",
              "\n",
              "    .dataframe tbody tr th {\n",
              "        vertical-align: top;\n",
              "    }\n",
              "\n",
              "    .dataframe thead th {\n",
              "        text-align: right;\n",
              "    }\n",
              "</style>\n",
              "<table border=\"1\" class=\"dataframe\">\n",
              "  <thead>\n",
              "    <tr style=\"text-align: right;\">\n",
              "      <th></th>\n",
              "      <th>mean_fit_time</th>\n",
              "      <th>std_fit_time</th>\n",
              "      <th>mean_score_time</th>\n",
              "      <th>std_score_time</th>\n",
              "      <th>param_n_features_to_select</th>\n",
              "      <th>params</th>\n",
              "      <th>split0_test_score</th>\n",
              "      <th>split1_test_score</th>\n",
              "      <th>split2_test_score</th>\n",
              "      <th>split3_test_score</th>\n",
              "      <th>split4_test_score</th>\n",
              "      <th>mean_test_score</th>\n",
              "      <th>std_test_score</th>\n",
              "      <th>rank_test_score</th>\n",
              "      <th>split0_train_score</th>\n",
              "      <th>split1_train_score</th>\n",
              "      <th>split2_train_score</th>\n",
              "      <th>split3_train_score</th>\n",
              "      <th>split4_train_score</th>\n",
              "      <th>mean_train_score</th>\n",
              "      <th>std_train_score</th>\n",
              "    </tr>\n",
              "  </thead>\n",
              "  <tbody>\n",
              "    <tr>\n",
              "      <th>0</th>\n",
              "      <td>0.015565</td>\n",
              "      <td>0.000267</td>\n",
              "      <td>0.001696</td>\n",
              "      <td>0.000144</td>\n",
              "      <td>1</td>\n",
              "      <td>{'n_features_to_select': 1}</td>\n",
              "      <td>0.332126</td>\n",
              "      <td>0.354583</td>\n",
              "      <td>0.313473</td>\n",
              "      <td>0.208356</td>\n",
              "      <td>0.193695</td>\n",
              "      <td>0.280447</td>\n",
              "      <td>0.066303</td>\n",
              "      <td>13</td>\n",
              "      <td>0.269598</td>\n",
              "      <td>0.266078</td>\n",
              "      <td>0.274238</td>\n",
              "      <td>0.293756</td>\n",
              "      <td>0.316843</td>\n",
              "      <td>0.284103</td>\n",
              "      <td>0.018961</td>\n",
              "    </tr>\n",
              "    <tr>\n",
              "      <th>1</th>\n",
              "      <td>0.014434</td>\n",
              "      <td>0.001785</td>\n",
              "      <td>0.001620</td>\n",
              "      <td>0.000098</td>\n",
              "      <td>2</td>\n",
              "      <td>{'n_features_to_select': 2}</td>\n",
              "      <td>0.564088</td>\n",
              "      <td>0.476047</td>\n",
              "      <td>0.535103</td>\n",
              "      <td>0.409265</td>\n",
              "      <td>0.386452</td>\n",
              "      <td>0.474191</td>\n",
              "      <td>0.068860</td>\n",
              "      <td>12</td>\n",
              "      <td>0.456277</td>\n",
              "      <td>0.478146</td>\n",
              "      <td>0.466582</td>\n",
              "      <td>0.489266</td>\n",
              "      <td>0.514996</td>\n",
              "      <td>0.481054</td>\n",
              "      <td>0.020255</td>\n",
              "    </tr>\n",
              "    <tr>\n",
              "      <th>2</th>\n",
              "      <td>0.013408</td>\n",
              "      <td>0.001498</td>\n",
              "      <td>0.002668</td>\n",
              "      <td>0.001977</td>\n",
              "      <td>3</td>\n",
              "      <td>{'n_features_to_select': 3}</td>\n",
              "      <td>0.547223</td>\n",
              "      <td>0.589021</td>\n",
              "      <td>0.601719</td>\n",
              "      <td>0.498255</td>\n",
              "      <td>0.464872</td>\n",
              "      <td>0.540218</td>\n",
              "      <td>0.052251</td>\n",
              "      <td>9</td>\n",
              "      <td>0.542008</td>\n",
              "      <td>0.533796</td>\n",
              "      <td>0.532540</td>\n",
              "      <td>0.551370</td>\n",
              "      <td>0.575501</td>\n",
              "      <td>0.547043</td>\n",
              "      <td>0.015746</td>\n",
              "    </tr>\n",
              "    <tr>\n",
              "      <th>3</th>\n",
              "      <td>0.013772</td>\n",
              "      <td>0.002376</td>\n",
              "      <td>0.001968</td>\n",
              "      <td>0.000410</td>\n",
              "      <td>4</td>\n",
              "      <td>{'n_features_to_select': 4}</td>\n",
              "      <td>0.581111</td>\n",
              "      <td>0.547400</td>\n",
              "      <td>0.548076</td>\n",
              "      <td>0.468244</td>\n",
              "      <td>0.461748</td>\n",
              "      <td>0.521316</td>\n",
              "      <td>0.047617</td>\n",
              "      <td>11</td>\n",
              "      <td>0.559265</td>\n",
              "      <td>0.565411</td>\n",
              "      <td>0.583286</td>\n",
              "      <td>0.563045</td>\n",
              "      <td>0.584210</td>\n",
              "      <td>0.571043</td>\n",
              "      <td>0.010561</td>\n",
              "    </tr>\n",
              "    <tr>\n",
              "      <th>4</th>\n",
              "      <td>0.013327</td>\n",
              "      <td>0.001786</td>\n",
              "      <td>0.001785</td>\n",
              "      <td>0.000083</td>\n",
              "      <td>5</td>\n",
              "      <td>{'n_features_to_select': 5}</td>\n",
              "      <td>0.591194</td>\n",
              "      <td>0.549705</td>\n",
              "      <td>0.572553</td>\n",
              "      <td>0.493925</td>\n",
              "      <td>0.470339</td>\n",
              "      <td>0.535543</td>\n",
              "      <td>0.046154</td>\n",
              "      <td>10</td>\n",
              "      <td>0.600268</td>\n",
              "      <td>0.569250</td>\n",
              "      <td>0.596139</td>\n",
              "      <td>0.602052</td>\n",
              "      <td>0.589408</td>\n",
              "      <td>0.591424</td>\n",
              "      <td>0.011909</td>\n",
              "    </tr>\n",
              "    <tr>\n",
              "      <th>5</th>\n",
              "      <td>0.011718</td>\n",
              "      <td>0.002827</td>\n",
              "      <td>0.001722</td>\n",
              "      <td>0.000092</td>\n",
              "      <td>6</td>\n",
              "      <td>{'n_features_to_select': 6}</td>\n",
              "      <td>0.611143</td>\n",
              "      <td>0.535911</td>\n",
              "      <td>0.566240</td>\n",
              "      <td>0.583399</td>\n",
              "      <td>0.512358</td>\n",
              "      <td>0.561810</td>\n",
              "      <td>0.034744</td>\n",
              "      <td>8</td>\n",
              "      <td>0.605035</td>\n",
              "      <td>0.592223</td>\n",
              "      <td>0.639119</td>\n",
              "      <td>0.636415</td>\n",
              "      <td>0.632917</td>\n",
              "      <td>0.621142</td>\n",
              "      <td>0.018926</td>\n",
              "    </tr>\n",
              "    <tr>\n",
              "      <th>6</th>\n",
              "      <td>0.009469</td>\n",
              "      <td>0.000180</td>\n",
              "      <td>0.003790</td>\n",
              "      <td>0.004311</td>\n",
              "      <td>7</td>\n",
              "      <td>{'n_features_to_select': 7}</td>\n",
              "      <td>0.660339</td>\n",
              "      <td>0.531479</td>\n",
              "      <td>0.588949</td>\n",
              "      <td>0.592931</td>\n",
              "      <td>0.533003</td>\n",
              "      <td>0.581340</td>\n",
              "      <td>0.047446</td>\n",
              "      <td>7</td>\n",
              "      <td>0.637852</td>\n",
              "      <td>0.599716</td>\n",
              "      <td>0.650758</td>\n",
              "      <td>0.638769</td>\n",
              "      <td>0.658031</td>\n",
              "      <td>0.637025</td>\n",
              "      <td>0.020127</td>\n",
              "    </tr>\n",
              "    <tr>\n",
              "      <th>7</th>\n",
              "      <td>0.008244</td>\n",
              "      <td>0.000107</td>\n",
              "      <td>0.001608</td>\n",
              "      <td>0.000063</td>\n",
              "      <td>8</td>\n",
              "      <td>{'n_features_to_select': 8}</td>\n",
              "      <td>0.665153</td>\n",
              "      <td>0.582549</td>\n",
              "      <td>0.591880</td>\n",
              "      <td>0.605447</td>\n",
              "      <td>0.568750</td>\n",
              "      <td>0.602756</td>\n",
              "      <td>0.033417</td>\n",
              "      <td>6</td>\n",
              "      <td>0.639167</td>\n",
              "      <td>0.626099</td>\n",
              "      <td>0.653133</td>\n",
              "      <td>0.658033</td>\n",
              "      <td>0.683933</td>\n",
              "      <td>0.652073</td>\n",
              "      <td>0.019457</td>\n",
              "    </tr>\n",
              "    <tr>\n",
              "      <th>8</th>\n",
              "      <td>0.008534</td>\n",
              "      <td>0.002320</td>\n",
              "      <td>0.001812</td>\n",
              "      <td>0.000079</td>\n",
              "      <td>9</td>\n",
              "      <td>{'n_features_to_select': 9}</td>\n",
              "      <td>0.692573</td>\n",
              "      <td>0.670759</td>\n",
              "      <td>0.630966</td>\n",
              "      <td>0.620179</td>\n",
              "      <td>0.585970</td>\n",
              "      <td>0.640089</td>\n",
              "      <td>0.037693</td>\n",
              "      <td>5</td>\n",
              "      <td>0.650771</td>\n",
              "      <td>0.654203</td>\n",
              "      <td>0.663114</td>\n",
              "      <td>0.666674</td>\n",
              "      <td>0.688326</td>\n",
              "      <td>0.664618</td>\n",
              "      <td>0.013182</td>\n",
              "    </tr>\n",
              "    <tr>\n",
              "      <th>9</th>\n",
              "      <td>0.006319</td>\n",
              "      <td>0.000224</td>\n",
              "      <td>0.001660</td>\n",
              "      <td>0.000127</td>\n",
              "      <td>10</td>\n",
              "      <td>{'n_features_to_select': 10}</td>\n",
              "      <td>0.681441</td>\n",
              "      <td>0.667416</td>\n",
              "      <td>0.648982</td>\n",
              "      <td>0.624969</td>\n",
              "      <td>0.589166</td>\n",
              "      <td>0.642395</td>\n",
              "      <td>0.032653</td>\n",
              "      <td>4</td>\n",
              "      <td>0.662694</td>\n",
              "      <td>0.665251</td>\n",
              "      <td>0.669401</td>\n",
              "      <td>0.674336</td>\n",
              "      <td>0.698179</td>\n",
              "      <td>0.673972</td>\n",
              "      <td>0.012730</td>\n",
              "    </tr>\n",
              "    <tr>\n",
              "      <th>10</th>\n",
              "      <td>0.005481</td>\n",
              "      <td>0.000242</td>\n",
              "      <td>0.001656</td>\n",
              "      <td>0.000097</td>\n",
              "      <td>11</td>\n",
              "      <td>{'n_features_to_select': 11}</td>\n",
              "      <td>0.692857</td>\n",
              "      <td>0.678480</td>\n",
              "      <td>0.669836</td>\n",
              "      <td>0.626938</td>\n",
              "      <td>0.578172</td>\n",
              "      <td>0.649257</td>\n",
              "      <td>0.041784</td>\n",
              "      <td>3</td>\n",
              "      <td>0.670283</td>\n",
              "      <td>0.671568</td>\n",
              "      <td>0.676257</td>\n",
              "      <td>0.684513</td>\n",
              "      <td>0.706613</td>\n",
              "      <td>0.681847</td>\n",
              "      <td>0.013350</td>\n",
              "    </tr>\n",
              "    <tr>\n",
              "      <th>11</th>\n",
              "      <td>0.005666</td>\n",
              "      <td>0.001667</td>\n",
              "      <td>0.001733</td>\n",
              "      <td>0.000147</td>\n",
              "      <td>12</td>\n",
              "      <td>{'n_features_to_select': 12}</td>\n",
              "      <td>0.694945</td>\n",
              "      <td>0.693741</td>\n",
              "      <td>0.676182</td>\n",
              "      <td>0.621139</td>\n",
              "      <td>0.583108</td>\n",
              "      <td>0.653823</td>\n",
              "      <td>0.044392</td>\n",
              "      <td>1</td>\n",
              "      <td>0.673739</td>\n",
              "      <td>0.673247</td>\n",
              "      <td>0.679309</td>\n",
              "      <td>0.689007</td>\n",
              "      <td>0.709194</td>\n",
              "      <td>0.684899</td>\n",
              "      <td>0.013406</td>\n",
              "    </tr>\n",
              "    <tr>\n",
              "      <th>12</th>\n",
              "      <td>0.003274</td>\n",
              "      <td>0.000120</td>\n",
              "      <td>0.001588</td>\n",
              "      <td>0.000257</td>\n",
              "      <td>13</td>\n",
              "      <td>{'n_features_to_select': 13}</td>\n",
              "      <td>0.682978</td>\n",
              "      <td>0.693243</td>\n",
              "      <td>0.676211</td>\n",
              "      <td>0.617829</td>\n",
              "      <td>0.592662</td>\n",
              "      <td>0.652584</td>\n",
              "      <td>0.039834</td>\n",
              "      <td>2</td>\n",
              "      <td>0.674988</td>\n",
              "      <td>0.673312</td>\n",
              "      <td>0.679320</td>\n",
              "      <td>0.689205</td>\n",
              "      <td>0.710738</td>\n",
              "      <td>0.685513</td>\n",
              "      <td>0.013769</td>\n",
              "    </tr>\n",
              "  </tbody>\n",
              "</table>\n",
              "</div>"
            ],
            "text/plain": [
              "    mean_fit_time  std_fit_time  ...  mean_train_score  std_train_score\n",
              "0        0.015565      0.000267  ...          0.284103         0.018961\n",
              "1        0.014434      0.001785  ...          0.481054         0.020255\n",
              "2        0.013408      0.001498  ...          0.547043         0.015746\n",
              "3        0.013772      0.002376  ...          0.571043         0.010561\n",
              "4        0.013327      0.001786  ...          0.591424         0.011909\n",
              "5        0.011718      0.002827  ...          0.621142         0.018926\n",
              "6        0.009469      0.000180  ...          0.637025         0.020127\n",
              "7        0.008244      0.000107  ...          0.652073         0.019457\n",
              "8        0.008534      0.002320  ...          0.664618         0.013182\n",
              "9        0.006319      0.000224  ...          0.673972         0.012730\n",
              "10       0.005481      0.000242  ...          0.681847         0.013350\n",
              "11       0.005666      0.001667  ...          0.684899         0.013406\n",
              "12       0.003274      0.000120  ...          0.685513         0.013769\n",
              "\n",
              "[13 rows x 21 columns]"
            ]
          },
          "metadata": {
            "tags": []
          },
          "execution_count": 115
        }
      ]
    },
    {
      "cell_type": "code",
      "metadata": {
        "colab": {
          "base_uri": "https://localhost:8080/"
        },
        "id": "pQBNwI8TeyHu",
        "outputId": "22f0fad2-d236-45c0-ef97-c2d8e09bbe13"
      },
      "source": [
        "y_train_pred = rfe_best.predict(X_train)\r\n",
        "y_test_pred = rfe_best.predict(X_test)\r\n",
        "\r\n",
        "print('Train: ', r2_score(y_train,y_train_pred))\r\n",
        "print('Test: ', r2_score(y_test,y_test_pred))"
      ],
      "execution_count": 120,
      "outputs": [
        {
          "output_type": "stream",
          "text": [
            "Train:  0.6814840385476646\n",
            "Test:  0.6731013119788617\n"
          ],
          "name": "stdout"
        }
      ]
    },
    {
      "cell_type": "code",
      "metadata": {
        "colab": {
          "base_uri": "https://localhost:8080/",
          "height": 374
        },
        "id": "pDppAC09g14Z",
        "outputId": "b98981dc-6dfe-4bb4-bfc7-d1998979c3d9"
      },
      "source": [
        "plt.figure(figsize=(16,6))\r\n",
        "\r\n",
        "plt.plot(results['param_n_features_to_select'],results['mean_train_score'])\r\n",
        "plt.plot(results['param_n_features_to_select'],results['mean_test_score'])\r\n",
        "\r\n",
        "plt.legend(['Train','Test'],loc = 'upper left')\r\n",
        "plt.show()"
      ],
      "execution_count": 125,
      "outputs": [
        {
          "output_type": "display_data",
          "data": {
            "image/png": "[encoded data removed]",
            "text/plain": [
              "<Figure size 1152x432 with 1 Axes>"
            ]
          },
          "metadata": {
            "tags": [],
            "needs_background": "light"
          }
        }
      ]
    },
    {
      "cell_type": "code",
      "metadata": {
        "id": "nQXWmkIOg2G7"
      },
      "source": [
        ""
      ],
      "execution_count": null,
      "outputs": []
    },
    {
      "cell_type": "code",
      "metadata": {
        "colab": {
          "base_uri": "https://localhost:8080/"
        },
        "id": "gjQyOjP5fZ0r",
        "outputId": "18ef6933-a8b8-4726-fecd-2e6eaf4dc95b"
      },
      "source": [
        "list(zip(X_train.columns,rfe_best.support_,rfe_best.ranking_))"
      ],
      "execution_count": 114,
      "outputs": [
        {
          "output_type": "execute_result",
          "data": {
            "text/plain": [
              "[('area', True, 1),\n",
              " ('bedrooms', True, 1),\n",
              " ('bathrooms', True, 1),\n",
              " ('stories', True, 1),\n",
              " ('mainroad', True, 1),\n",
              " ('guestroom', True, 1),\n",
              " ('basement', True, 1),\n",
              " ('hotwaterheating', True, 1),\n",
              " ('airconditioning', True, 1),\n",
              " ('parking', True, 1),\n",
              " ('prefarea', True, 1),\n",
              " ('semi-furnished', False, 2),\n",
              " ('unfurnished', True, 1)]"
            ]
          },
          "metadata": {
            "tags": []
          },
          "execution_count": 114
        }
      ]
    },
    {
      "cell_type": "code",
      "metadata": {
        "colab": {
          "base_uri": "https://localhost:8080/"
        },
        "id": "8Pj9_hlhgb16",
        "outputId": "88a49b74-f216-4a56-e422-7fba5cad5cd1"
      },
      "source": [
        "cols = X_train.columns[rfe_best.support_]\r\n",
        "cols"
      ],
      "execution_count": 121,
      "outputs": [
        {
          "output_type": "execute_result",
          "data": {
            "text/plain": [
              "Index(['area', 'bedrooms', 'bathrooms', 'stories', 'mainroad', 'guestroom',\n",
              "       'basement', 'hotwaterheating', 'airconditioning', 'parking', 'prefarea',\n",
              "       'unfurnished'],\n",
              "      dtype='object')"
            ]
          },
          "metadata": {
            "tags": []
          },
          "execution_count": 121
        }
      ]
    },
    {
      "cell_type": "code",
      "metadata": {
        "colab": {
          "base_uri": "https://localhost:8080/"
        },
        "id": "JKXocdc-jJ9F",
        "outputId": "3b37efbe-9199-4632-abd9-6ce799221197"
      },
      "source": [
        "lm=LinearRegression()\r\n",
        "lm.fit(X_train[cols],y_train)"
      ],
      "execution_count": 122,
      "outputs": [
        {
          "output_type": "execute_result",
          "data": {
            "text/plain": [
              "LinearRegression(copy_X=True, fit_intercept=True, n_jobs=None, normalize=False)"
            ]
          },
          "metadata": {
            "tags": []
          },
          "execution_count": 122
        }
      ]
    },
    {
      "cell_type": "code",
      "metadata": {
        "colab": {
          "base_uri": "https://localhost:8080/"
        },
        "id": "tJRrBFPNkW1c",
        "outputId": "18064717-a498-46c7-c3b0-4c74e6315be1"
      },
      "source": [
        "y_train_pred = lm.predict(X_train[cols])\r\n",
        "y_test_pred = lm.predict(X_test[cols])\r\n",
        "print('Train: ', r2_score(y_train,y_train_pred))\r\n",
        "print('Test: ', r2_score(y_test,y_test_pred))"
      ],
      "execution_count": 124,
      "outputs": [
        {
          "output_type": "stream",
          "text": [
            "Train:  0.6814840385476646\n",
            "Test:  0.6731013119788617\n"
          ],
          "name": "stdout"
        }
      ]
    },
    {
      "cell_type": "code",
      "metadata": {
        "id": "KeqKe5REknh9"
      },
      "source": [
        ""
      ],
      "execution_count": null,
      "outputs": []
    }
  ]
}